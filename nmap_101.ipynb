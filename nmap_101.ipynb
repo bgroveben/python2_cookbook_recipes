{
 "cells": [
  {
   "cell_type": "markdown",
   "metadata": {},
   "source": [
    "# Nmap 101"
   ]
  },
  {
   "cell_type": "markdown",
   "metadata": {},
   "source": [
    "The fundamentals.  \n",
    "Some good sites that can be used for practicing without breaking the law (but still, be careful and considerate) can be found through [NMAP.ORG](http://scanme.nmap.org/) and [OWASP](https://www.owasp.org/index.php/OWASP_Vulnerable_Web_Applications_Directory_Project)."
   ]
  },
  {
   "cell_type": "markdown",
   "metadata": {},
   "source": [
    "## Nmap Beginner's Guide"
   ]
  },
  {
   "cell_type": "markdown",
   "metadata": {},
   "source": [
    "You can use the Jupyter magic %%bash to [run a cell with bash in a subprocess](https://blog.dominodatalab.com/lesser-known-ways-of-using-notebooks/)."
   ]
  },
  {
   "cell_type": "code",
   "execution_count": 1,
   "metadata": {},
   "outputs": [
    {
     "name": "stdout",
     "output_type": "stream",
     "text": [
      "Nmap 7.60 ( https://nmap.org )\n",
      "Usage: nmap [Scan Type(s)] [Options] {target specification}\n",
      "TARGET SPECIFICATION:\n",
      "  Can pass hostnames, IP addresses, networks, etc.\n",
      "  Ex: scanme.nmap.org, microsoft.com/24, 192.168.0.1; 10.0.0-255.1-254\n",
      "  -iL <inputfilename>: Input from list of hosts/networks\n",
      "  -iR <num hosts>: Choose random targets\n",
      "  --exclude <host1[,host2][,host3],...>: Exclude hosts/networks\n",
      "  --excludefile <exclude_file>: Exclude list from file\n",
      "HOST DISCOVERY:\n",
      "  -sL: List Scan - simply list targets to scan\n",
      "  -sn: Ping Scan - disable port scan\n",
      "  -Pn: Treat all hosts as online -- skip host discovery\n",
      "  -PS/PA/PU/PY[portlist]: TCP SYN/ACK, UDP or SCTP discovery to given ports\n",
      "  -PE/PP/PM: ICMP echo, timestamp, and netmask request discovery probes\n",
      "  -PO[protocol list]: IP Protocol Ping\n",
      "  -n/-R: Never do DNS resolution/Always resolve [default: sometimes]\n",
      "  --dns-servers <serv1[,serv2],...>: Specify custom DNS servers\n",
      "  --system-dns: Use OS's DNS resolver\n",
      "  --traceroute: Trace hop path to each host\n",
      "SCAN TECHNIQUES:\n",
      "  -sS/sT/sA/sW/sM: TCP SYN/Connect()/ACK/Window/Maimon scans\n",
      "  -sU: UDP Scan\n",
      "  -sN/sF/sX: TCP Null, FIN, and Xmas scans\n",
      "  --scanflags <flags>: Customize TCP scan flags\n",
      "  -sI <zombie host[:probeport]>: Idle scan\n",
      "  -sY/sZ: SCTP INIT/COOKIE-ECHO scans\n",
      "  -sO: IP protocol scan\n",
      "  -b <FTP relay host>: FTP bounce scan\n",
      "PORT SPECIFICATION AND SCAN ORDER:\n",
      "  -p <port ranges>: Only scan specified ports\n",
      "    Ex: -p22; -p1-65535; -p U:53,111,137,T:21-25,80,139,8080,S:9\n",
      "  --exclude-ports <port ranges>: Exclude the specified ports from scanning\n",
      "  -F: Fast mode - Scan fewer ports than the default scan\n",
      "  -r: Scan ports consecutively - don't randomize\n",
      "  --top-ports <number>: Scan <number> most common ports\n",
      "  --port-ratio <ratio>: Scan ports more common than <ratio>\n",
      "SERVICE/VERSION DETECTION:\n",
      "  -sV: Probe open ports to determine service/version info\n",
      "  --version-intensity <level>: Set from 0 (light) to 9 (try all probes)\n",
      "  --version-light: Limit to most likely probes (intensity 2)\n",
      "  --version-all: Try every single probe (intensity 9)\n",
      "  --version-trace: Show detailed version scan activity (for debugging)\n",
      "SCRIPT SCAN:\n",
      "  -sC: equivalent to --script=default\n",
      "  --script=<Lua scripts>: <Lua scripts> is a comma separated list of\n",
      "           directories, script-files or script-categories\n",
      "  --script-args=<n1=v1,[n2=v2,...]>: provide arguments to scripts\n",
      "  --script-args-file=filename: provide NSE script args in a file\n",
      "  --script-trace: Show all data sent and received\n",
      "  --script-updatedb: Update the script database.\n",
      "  --script-help=<Lua scripts>: Show help about scripts.\n",
      "           <Lua scripts> is a comma-separated list of script-files or\n",
      "           script-categories.\n",
      "OS DETECTION:\n",
      "  -O: Enable OS detection\n",
      "  --osscan-limit: Limit OS detection to promising targets\n",
      "  --osscan-guess: Guess OS more aggressively\n",
      "TIMING AND PERFORMANCE:\n",
      "  Options which take <time> are in seconds, or append 'ms' (milliseconds),\n",
      "  's' (seconds), 'm' (minutes), or 'h' (hours) to the value (e.g. 30m).\n",
      "  -T<0-5>: Set timing template (higher is faster)\n",
      "  --min-hostgroup/max-hostgroup <size>: Parallel host scan group sizes\n",
      "  --min-parallelism/max-parallelism <numprobes>: Probe parallelization\n",
      "  --min-rtt-timeout/max-rtt-timeout/initial-rtt-timeout <time>: Specifies\n",
      "      probe round trip time.\n",
      "  --max-retries <tries>: Caps number of port scan probe retransmissions.\n",
      "  --host-timeout <time>: Give up on target after this long\n",
      "  --scan-delay/--max-scan-delay <time>: Adjust delay between probes\n",
      "  --min-rate <number>: Send packets no slower than <number> per second\n",
      "  --max-rate <number>: Send packets no faster than <number> per second\n",
      "FIREWALL/IDS EVASION AND SPOOFING:\n",
      "  -f; --mtu <val>: fragment packets (optionally w/given MTU)\n",
      "  -D <decoy1,decoy2[,ME],...>: Cloak a scan with decoys\n",
      "  -S <IP_Address>: Spoof source address\n",
      "  -e <iface>: Use specified interface\n",
      "  -g/--source-port <portnum>: Use given port number\n",
      "  --proxies <url1,[url2],...>: Relay connections through HTTP/SOCKS4 proxies\n",
      "  --data <hex string>: Append a custom payload to sent packets\n",
      "  --data-string <string>: Append a custom ASCII string to sent packets\n",
      "  --data-length <num>: Append random data to sent packets\n",
      "  --ip-options <options>: Send packets with specified ip options\n",
      "  --ttl <val>: Set IP time-to-live field\n",
      "  --spoof-mac <mac address/prefix/vendor name>: Spoof your MAC address\n",
      "  --badsum: Send packets with a bogus TCP/UDP/SCTP checksum\n",
      "OUTPUT:\n",
      "  -oN/-oX/-oS/-oG <file>: Output scan in normal, XML, s|<rIpt kIddi3,\n",
      "     and Grepable format, respectively, to the given filename.\n",
      "  -oA <basename>: Output in the three major formats at once\n",
      "  -v: Increase verbosity level (use -vv or more for greater effect)\n",
      "  -d: Increase debugging level (use -dd or more for greater effect)\n",
      "  --reason: Display the reason a port is in a particular state\n",
      "  --open: Only show open (or possibly open) ports\n",
      "  --packet-trace: Show all packets sent and received\n",
      "  --iflist: Print host interfaces and routes (for debugging)\n",
      "  --append-output: Append to rather than clobber specified output files\n",
      "  --resume <filename>: Resume an aborted scan\n",
      "  --stylesheet <path/URL>: XSL stylesheet to transform XML output to HTML\n",
      "  --webxml: Reference stylesheet from Nmap.Org for more portable XML\n",
      "  --no-stylesheet: Prevent associating of XSL stylesheet w/XML output\n",
      "MISC:\n",
      "  -6: Enable IPv6 scanning\n",
      "  -A: Enable OS detection, version detection, script scanning, and traceroute\n",
      "  --datadir <dirname>: Specify custom Nmap data file location\n",
      "  --send-eth/--send-ip: Send using raw ethernet frames or IP packets\n",
      "  --privileged: Assume that the user is fully privileged\n",
      "  --unprivileged: Assume the user lacks raw socket privileges\n",
      "  -V: Print version number\n",
      "  -h: Print this help summary page.\n",
      "EXAMPLES:\n",
      "  nmap -v -A scanme.nmap.org\n",
      "  nmap -v -sn 192.168.0.0/16 10.0.0.0/8\n",
      "  nmap -v -iR 10000 -Pn -p 80\n",
      "SEE THE MAN PAGE (https://nmap.org/book/man.html) FOR MORE OPTIONS AND EXAMPLES\n"
     ]
    }
   ],
   "source": [
    "%%bash\n",
    "\n",
    "nmap"
   ]
  },
  {
   "cell_type": "markdown",
   "metadata": {},
   "source": [
    "Did you get all that?  \n",
    "Nmap is a very versatile tool, but in this notebook we're going to stick to the basics.  \n",
    "To get started, the following command will scan all of your local IP range (assuming you're in the 192.168.1.0-254 range), and will perform service identification (-sV) and will scan all ports (-p 1-65535).  \n",
    "Since you are running this as a normal user and not root it will be TCP Connect based scan that should take about 90-120 seconds.  \n",
    "If you run the command with sudo at the front it will run as a TCP SYN scan."
   ]
  },
  {
   "cell_type": "code",
   "execution_count": 2,
   "metadata": {},
   "outputs": [
    {
     "name": "stdout",
     "output_type": "stream",
     "text": [
      "\n",
      "Starting Nmap 7.60 ( https://nmap.org ) at 2018-02-17 02:38 PST\n",
      "Nmap done: 256 IP addresses (0 hosts up) scanned in 105.58 seconds\n"
     ]
    }
   ],
   "source": [
    "%%bash\n",
    "\n",
    "nmap -sV -p 1-65535 192.168.1.1/24"
   ]
  },
  {
   "cell_type": "markdown",
   "metadata": {},
   "source": [
    "This command will scan a single IP address on the network:"
   ]
  },
  {
   "cell_type": "code",
   "execution_count": 3,
   "metadata": {},
   "outputs": [
    {
     "name": "stdout",
     "output_type": "stream",
     "text": [
      "\n",
      "Starting Nmap 7.60 ( https://nmap.org ) at 2018-02-17 02:39 PST\n",
      "Nmap scan report for 192.168.0.1\n",
      "Host is up (0.0074s latency).\n",
      "Not shown: 992 filtered ports\n",
      "PORT     STATE  SERVICE\n",
      "22/tcp   closed ssh\n",
      "23/tcp   closed telnet\n",
      "80/tcp   open   http\n",
      "139/tcp  closed netbios-ssn\n",
      "443/tcp  open   https\n",
      "445/tcp  closed microsoft-ds\n",
      "1900/tcp open   upnp\n",
      "5000/tcp open   upnp\n",
      "\n",
      "Nmap done: 1 IP address (1 host up) scanned in 4.98 seconds\n"
     ]
    }
   ],
   "source": [
    "%%bash\n",
    "\n",
    "nmap 192.168.0.1"
   ]
  },
  {
   "cell_type": "markdown",
   "metadata": {},
   "source": [
    "You can also scan a host, courtesy of the kind folks at [Scanme.nmap.org](http://scanme.nmap.org/).  \n",
    "Please note:  \n",
    "\n",
    "`\n",
    "We set up this machine to help folks learn about Nmap and also to test and make sure that their Nmap installation (or Internet connection) is working properly. You are authorized to scan this machine with Nmap or other port scanners. Try not to hammer on the server too hard. A few scans in a day is fine, but don't scan 100 times a day or use this site to test your ssh brute-force password cracking tool.\n",
    "`"
   ]
  },
  {
   "cell_type": "raw",
   "metadata": {},
   "source": [
    "%%bash\n",
    "\n",
    "nmap scanme.nmap.org\n",
    "--------------------------------------------------------------------------------\n",
    ">>>\n",
    "\n",
    "Starting Nmap 7.60 ( https://nmap.org ) at 2018-02-15 08:08 PST\n",
    "Nmap scan report for scanme.nmap.org (45.33.32.156)\n",
    "Host is up (0.054s latency).\n",
    "Other addresses for scanme.nmap.org (not scanned): 2600:3c01::f03c:91ff:fe18:bb2f\n",
    "Not shown: 992 closed ports\n",
    "PORT      STATE    SERVICE\n",
    "22/tcp    open     ssh\n",
    "25/tcp    filtered smtp\n",
    "80/tcp    open     http\n",
    "135/tcp   filtered msrpc\n",
    "139/tcp   filtered netbios-ssn\n",
    "445/tcp   filtered microsoft-ds\n",
    "9929/tcp  open     nping-echo\n",
    "31337/tcp open     Elite\n",
    "\n",
    "Nmap done: 1 IP address (1 host up) scanned in 4.45 seconds"
   ]
  },
  {
   "cell_type": "markdown",
   "metadata": {},
   "source": [
    "Scan a range of IP addresses:"
   ]
  },
  {
   "cell_type": "code",
   "execution_count": 4,
   "metadata": {},
   "outputs": [
    {
     "name": "stdout",
     "output_type": "stream",
     "text": [
      "\n",
      "Starting Nmap 7.60 ( https://nmap.org ) at 2018-02-17 02:39 PST\n",
      "Nmap scan report for 192.168.0.1\n",
      "Host is up (0.0071s latency).\n",
      "Not shown: 992 filtered ports\n",
      "PORT     STATE  SERVICE\n",
      "22/tcp   closed ssh\n",
      "23/tcp   closed telnet\n",
      "80/tcp   open   http\n",
      "139/tcp  closed netbios-ssn\n",
      "443/tcp  open   https\n",
      "445/tcp  closed microsoft-ds\n",
      "1900/tcp open   upnp\n",
      "5000/tcp open   upnp\n",
      "\n",
      "Nmap scan report for 192.168.0.2\n",
      "Host is up (0.0020s latency).\n",
      "Not shown: 999 closed ports\n",
      "PORT   STATE SERVICE\n",
      "22/tcp open  ssh\n",
      "\n",
      "Nmap scan report for 192.168.0.5\n",
      "Host is up (0.030s latency).\n",
      "Not shown: 998 closed ports\n",
      "PORT      STATE SERVICE\n",
      "23/tcp    open  telnet\n",
      "20005/tcp open  btx\n",
      "\n",
      "Nmap done: 20 IP addresses (3 hosts up) scanned in 8.99 seconds\n"
     ]
    }
   ],
   "source": [
    "%%bash\n",
    "\n",
    "nmap 192.168.0.1-20"
   ]
  },
  {
   "cell_type": "markdown",
   "metadata": {},
   "source": [
    "This command scans a subnet.  \n",
    "Scanning a subnet will allow the scan to monitor multiple hosts.  \n",
    "This command is useful when checking on multiple networks as well:"
   ]
  },
  {
   "cell_type": "code",
   "execution_count": 5,
   "metadata": {},
   "outputs": [
    {
     "name": "stdout",
     "output_type": "stream",
     "text": [
      "\n",
      "Starting Nmap 7.60 ( https://nmap.org ) at 2018-02-17 02:40 PST\n",
      "Nmap scan report for 192.168.0.1\n",
      "Host is up (0.0063s latency).\n",
      "Not shown: 992 filtered ports\n",
      "PORT     STATE  SERVICE\n",
      "22/tcp   closed ssh\n",
      "23/tcp   closed telnet\n",
      "80/tcp   open   http\n",
      "139/tcp  closed netbios-ssn\n",
      "443/tcp  open   https\n",
      "445/tcp  closed microsoft-ds\n",
      "1900/tcp open   upnp\n",
      "5000/tcp open   upnp\n",
      "\n",
      "Nmap scan report for 192.168.0.2\n",
      "Host is up (0.0019s latency).\n",
      "Not shown: 999 closed ports\n",
      "PORT   STATE SERVICE\n",
      "22/tcp open  ssh\n",
      "\n",
      "Nmap scan report for 192.168.0.5\n",
      "Host is up (0.031s latency).\n",
      "Not shown: 998 closed ports\n",
      "PORT      STATE SERVICE\n",
      "23/tcp    open  telnet\n",
      "20005/tcp open  btx\n",
      "\n",
      "Nmap done: 256 IP addresses (3 hosts up) scanned in 13.44 seconds\n"
     ]
    }
   ],
   "source": [
    "%%bash\n",
    "\n",
    "nmap 192.168.0.1/24"
   ]
  },
  {
   "cell_type": "markdown",
   "metadata": {},
   "source": [
    "### Nmap port selection"
   ]
  },
  {
   "cell_type": "markdown",
   "metadata": {},
   "source": [
    "To utilize Nmap effectively, you will need to understand how to use the port selection options.  \n",
    "The port selection options determine what ports will be scanned and whether the scan order is random or in a sequential order."
   ]
  },
  {
   "cell_type": "markdown",
   "metadata": {},
   "source": [
    "This is the command to scan a single port.  \n",
    "Some malware will consistently operate on a specific port on every host it infects.  \n",
    "By knowing these ports, you can sometimes quickly determine what kind of malware you are dealing with.  \n",
    "A single port scan would be useful in this situation:"
   ]
  },
  {
   "cell_type": "code",
   "execution_count": 6,
   "metadata": {},
   "outputs": [
    {
     "name": "stdout",
     "output_type": "stream",
     "text": [
      "\n",
      "Starting Nmap 7.60 ( https://nmap.org ) at 2018-02-17 02:40 PST\n",
      "Nmap scan report for 192.168.0.1\n",
      "Host is up (0.0024s latency).\n",
      "\n",
      "PORT   STATE SERVICE\n",
      "80/tcp open  http\n",
      "\n",
      "Nmap done: 1 IP address (1 host up) scanned in 0.05 seconds\n"
     ]
    }
   ],
   "source": [
    "%%bash\n",
    "\n",
    "nmap -p 80 192.168.0.1"
   ]
  },
  {
   "cell_type": "markdown",
   "metadata": {},
   "source": [
    "The ability to specify a range of ports can be very useful.  \n",
    "The following command will scan a range of ports from 1 to 100.  "
   ]
  },
  {
   "cell_type": "code",
   "execution_count": 7,
   "metadata": {},
   "outputs": [
    {
     "name": "stdout",
     "output_type": "stream",
     "text": [
      "\n",
      "Starting Nmap 7.60 ( https://nmap.org ) at 2018-02-17 02:40 PST\n",
      "Nmap scan report for 192.168.0.1\n",
      "Host is up (0.0043s latency).\n",
      "Not shown: 97 filtered ports\n",
      "PORT   STATE  SERVICE\n",
      "22/tcp closed ssh\n",
      "23/tcp closed telnet\n",
      "80/tcp open   http\n",
      "\n",
      "Nmap done: 1 IP address (1 host up) scanned in 1.78 seconds\n"
     ]
    }
   ],
   "source": [
    "%%bash\n",
    "\n",
    "nmap -p 1-100 192.168.0.1"
   ]
  },
  {
   "cell_type": "markdown",
   "metadata": {},
   "source": [
    "You can choose to scan the 100 most common ports, which is faster than scanning all of them.  \n",
    "The `-f` flag will trigger a [default scan (fastscan or fragscan)](https://nmap.org/book/man-bypass-firewalls-ids.html) that does just that. \n",
    "The `-f` option causes the requested scan (including ping scans) to use tiny fragmented IP packets.  \n",
    "The idea is to split up the TCP header over several packets to make it harder for packet filters, intrusion detection systems, and other annoyances to detect what you are doing.  \n",
    "Read that last sentence several times, and be VERY careful about when and how you use it.  \n",
    "But, since you are learning how to find vulnerabilities, do your scans while a [sniffer](https://en.wikipedia.org/wiki/Packet_analyzer) such as [Wireshark](https://github.com/wireshark/wireshark) is running to ensure that sent packets are fragmented."
   ]
  },
  {
   "cell_type": "raw",
   "metadata": {},
   "source": [
    "%%bash\n",
    "\n",
    "sudo nmap -f 192.168.0.1\n",
    "----------------------------------------------------------------------------------------------------------------------\n",
    ">>>\n",
    "\n",
    "Warning: Packet fragmentation selected on a host other than Linux, OpenBSD, FreeBSD, or NetBSD.  This may or may not work.\n",
    "\n",
    "Starting Nmap 7.60 ( https://nmap.org ) at 2018-02-15 08:26 PST\n",
    "Nmap scan report for 192.168.0.1\n",
    "Host is up (0.0037s latency).\n",
    "Not shown: 994 filtered ports\n",
    "PORT     STATE  SERVICE\n",
    "22/tcp   closed ssh\n",
    "23/tcp   closed telnet\n",
    "80/tcp   open   http\n",
    "443/tcp  open   https\n",
    "1900/tcp open   upnp\n",
    "5000/tcp open   upnp\n",
    "MAC Address: E4:F4:C6:1F:78:23 (Netgear)\n",
    "\n",
    "Nmap done: 1 IP address (1 host up) scanned in 5.18 seconds"
   ]
  },
  {
   "cell_type": "markdown",
   "metadata": {},
   "source": [
    "And, because you know you want to, here is the command to scan your entire subnet and save the output to a text file.  If you are using version control, exclude the text files that are generated unless you want to share the results.\n",
    "Then see what yor firewall thinks about that."
   ]
  },
  {
   "cell_type": "code",
   "execution_count": 8,
   "metadata": {},
   "outputs": [],
   "source": [
    "%%bash\n",
    "\n",
    "nmap -v -A 192.168.1.1-255 > my_own_portscan.txt"
   ]
  },
  {
   "cell_type": "markdown",
   "metadata": {},
   "source": [
    "If you want to compare notes, [ShieldsUP!](https://www.grc.com/x/ne.dll?bh0bkyd2) is a website you can visit that will run a port scan on your machine."
   ]
  },
  {
   "cell_type": "markdown",
   "metadata": {},
   "source": [
    "You can now go a step further and scan an entire subnet and save the results:"
   ]
  },
  {
   "cell_type": "code",
   "execution_count": 9,
   "metadata": {},
   "outputs": [],
   "source": [
    "%%bash\n",
    "\n",
    "nmap -v -A 192.168.0.1/24 > subnet_scan.txt"
   ]
  },
  {
   "cell_type": "markdown",
   "metadata": {},
   "source": [
    "### Nmap port scan types"
   ]
  },
  {
   "cell_type": "markdown",
   "metadata": {},
   "source": [
    "There are many different [types of port scans](https://nmap.org/book/man-port-scanning-techniques.html) that can be run with Nmap.  \n",
    "It is important to know which type of port scan to use depending on your objective.  \n",
    "For example, if you want to determine which TCP ports are active on a targeted host, run a TCP port scan.  \n",
    "Hackers will often use various port scans to see if they can find a vulnerable open port to use as an attack vector."
   ]
  },
  {
   "cell_type": "markdown",
   "metadata": {},
   "source": [
    "#### Scan using TCP SYN (default)"
   ]
  },
  {
   "cell_type": "markdown",
   "metadata": {},
   "source": [
    "This command determines whether the port is listening.  \n",
    "Using this command is a technique called half-open scanning.  \n",
    "It is called half-open scanning because you don't establish a full TCP connection.  \n",
    "Instead, you only send a SYN packet and wait for the response.  \n",
    "If you receive a [SYN/ACK response](http://www.inetdaemon.com/tutorials/internet/tcp/3-way_handshake.shtml) that means the port is listening:"
   ]
  },
  {
   "cell_type": "raw",
   "metadata": {},
   "source": [
    "%%bash\n",
    "\n",
    "sudo nmap -sS 192.168.0.1\n",
    "\n",
    "----------------------------------------------------------------------------------------------------------------------\n",
    ">>>\n",
    "\n",
    "Starting Nmap 7.60 ( https://nmap.org ) at 2018-02-16 10:10 PST\n",
    "Nmap scan report for 192.168.0.1\n",
    "Host is up (0.0039s latency).\n",
    "Not shown: 992 filtered ports\n",
    "PORT     STATE  SERVICE\n",
    "22/tcp   closed ssh\n",
    "23/tcp   closed telnet\n",
    "80/tcp   open   http\n",
    "139/tcp  closed netbios-ssn\n",
    "443/tcp  open   https\n",
    "445/tcp  closed microsoft-ds\n",
    "1900/tcp open   upnp\n",
    "5000/tcp open   upnp\n",
    "MAC Address: E4:F4:C6:1F:78:23 (Netgear)\n",
    "\n",
    "Nmap done: 1 IP address (1 host up) scanned in 5.08 seconds"
   ]
  },
  {
   "cell_type": "markdown",
   "metadata": {},
   "source": [
    "#### Scan using TCP connect"
   ]
  },
  {
   "cell_type": "markdown",
   "metadata": {},
   "source": [
    "This is the command to scan using the TCP connect option.  \n",
    "If a user does not have [raw packet privileges](https://en.wikipedia.org/wiki/Network_socket#Raw_socket), this is the command they will use:"
   ]
  },
  {
   "cell_type": "raw",
   "metadata": {},
   "source": [
    "%%bash \n",
    "\n",
    "nmap -sT 192.168.0.9\n",
    "\n",
    "----------------------------------------------------------------------------------------------------------------------\n",
    ">>>\n",
    "\n",
    "Starting Nmap 7.60 ( https://nmap.org ) at 2018-02-16 10:28 PST\n",
    "Nmap scan report for 192.168.0.1\n",
    "Host is up (0.0038s latency).\n",
    "Not shown: 992 filtered ports\n",
    "PORT     STATE  SERVICE\n",
    "22/tcp   closed ssh\n",
    "23/tcp   closed telnet\n",
    "80/tcp   open   http\n",
    "139/tcp  closed netbios-ssn\n",
    "443/tcp  open   https\n",
    "445/tcp  closed microsoft-ds\n",
    "1900/tcp open   upnp\n",
    "5000/tcp open   upnp\n",
    "\n",
    "Nmap done: 1 IP address (1 host up) scanned in 4.85 seconds"
   ]
  },
  {
   "cell_type": "markdown",
   "metadata": {},
   "source": [
    "Privileged access is necessary to perform the default SYN scans.  \n",
    "If privileges are not sufficient, a TCP connect scan will be used.  \n",
    "A TCP connect scan needs a full TCP connection to be established, and is known to be a slower scan than SYN scans.  \n",
    "Disregarding discovery is often required as many firewalls or hosts will not answer to ping, so it could be missed, unless you choose the `-Pn` parameter.  \n",
    "Of course, this can make the scan times much longer as you could end up sending scan probes to hosts that are not even there."
   ]
  },
  {
   "cell_type": "markdown",
   "metadata": {},
   "source": [
    "### Service and OS Detection"
   ]
  },
  {
   "cell_type": "markdown",
   "metadata": {},
   "source": [
    "Nmap is one of the most popular tools used for the enumeration of a targeted host.  \n",
    "Nmap can use scans that provide the OS, version, and service detection for individual or multiple devices.  \n",
    "Detection scans are critical to the enumeration process when conducting penetration testing of a network.  \n",
    "It is important to know where vulnerable machines are located on the network so they can be fixed or replaced before they are attacked.  \n",
    "Many attackers will use these scans to figure out what payloads would be most effective on a victim's device.  \n",
    "The OS scan works by using the TCP/IP stack fingerprinting method.  \n",
    "The services scan works by using the Nmap-service-probes database to enumerate details of services running on a targeted host."
   ]
  },
  {
   "cell_type": "markdown",
   "metadata": {},
   "source": [
    "#### OS Detection"
   ]
  },
  {
   "cell_type": "markdown",
   "metadata": {},
   "source": [
    "This is the command to scan and search for the OS (and the OS version) on a host.  \n",
    "This command will provide valuable information for the enumeration phase of your network security assessment."
   ]
  },
  {
   "cell_type": "raw",
   "metadata": {},
   "source": [
    "%%bash\n",
    "\n",
    "sudo nmap -A 192.168.0.1"
   ]
  },
  {
   "cell_type": "markdown",
   "metadata": {},
   "source": [
    "#### Service Detection"
   ]
  },
  {
   "cell_type": "markdown",
   "metadata": {},
   "source": [
    "This is the command to scan for running service.  \n",
    "Nmap contains a database of about 2,200 well-known services and associated ports.  \n",
    "Examples of these services are HTTP (port 80), SMTP (port 25), DNS (port 53), and SSH (port 22):"
   ]
  },
  {
   "cell_type": "code",
   "execution_count": 12,
   "metadata": {},
   "outputs": [
    {
     "name": "stdout",
     "output_type": "stream",
     "text": [
      "\n",
      "Starting Nmap 7.60 ( https://nmap.org ) at 2018-02-17 02:50 PST\n",
      "Nmap scan report for 192.168.0.1\n",
      "Host is up (0.0057s latency).\n",
      "Not shown: 992 filtered ports\n",
      "PORT     STATE  SERVICE      VERSION\n",
      "22/tcp   closed ssh\n",
      "23/tcp   closed telnet\n",
      "80/tcp   open   tcpwrapped\n",
      "139/tcp  closed netbios-ssn\n",
      "443/tcp  open   tcpwrapped\n",
      "445/tcp  closed microsoft-ds\n",
      "1900/tcp open   http         Cisco DPC3828S WiFi cable modem\n",
      "5000/tcp open   tcpwrapped\n",
      "Service Info: Device: WAP; CPE: cpe:/h:cisco:dpc3828s\n",
      "\n",
      "Service detection performed. Please report any incorrect results at https://nmap.org/submit/ .\n",
      "Nmap done: 1 IP address (1 host up) scanned in 11.01 seconds\n"
     ]
    }
   ],
   "source": [
    "%%bash\n",
    "\n",
    "nmap -sV 192.168.0.1"
   ]
  },
  {
   "cell_type": "markdown",
   "metadata": {},
   "source": [
    "More aggressive service detection."
   ]
  },
  {
   "cell_type": "code",
   "execution_count": null,
   "metadata": {},
   "outputs": [],
   "source": []
  }
 ],
 "metadata": {
  "kernelspec": {
   "display_name": "Python 2",
   "language": "python",
   "name": "python2"
  },
  "language_info": {
   "codemirror_mode": {
    "name": "ipython",
    "version": 2
   },
   "file_extension": ".py",
   "mimetype": "text/x-python",
   "name": "python",
   "nbconvert_exporter": "python",
   "pygments_lexer": "ipython2",
   "version": "2.7.13"
  }
 },
 "nbformat": 4,
 "nbformat_minor": 2
}
