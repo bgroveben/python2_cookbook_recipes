{
 "cells": [
  {
   "cell_type": "markdown",
   "metadata": {},
   "source": [
    "# Nmap 101"
   ]
  },
  {
   "cell_type": "markdown",
   "metadata": {},
   "source": [
    "The fundamentals.  \n",
    "Some good sites that can be used for practicing without breaking the law (but still, be careful and considerate) can be found through [NMAP.ORG](http://scanme.nmap.org/) and [OWASP](https://www.owasp.org/index.php/OWASP_Vulnerable_Web_Applications_Directory_Project)."
   ]
  },
  {
   "cell_type": "markdown",
   "metadata": {},
   "source": [
    "## Nmap Beginner's Guide"
   ]
  },
  {
   "cell_type": "markdown",
   "metadata": {},
   "source": [
    "You can use the Jupyter magic %%bash to [run a cell with bash in a subprocess](https://blog.dominodatalab.com/lesser-known-ways-of-using-notebooks/)."
   ]
  },
  {
   "cell_type": "code",
   "execution_count": 1,
   "metadata": {},
   "outputs": [
    {
     "name": "stdout",
     "output_type": "stream",
     "text": [
      "Nmap 7.60 ( https://nmap.org )\n",
      "Usage: nmap [Scan Type(s)] [Options] {target specification}\n",
      "TARGET SPECIFICATION:\n",
      "  Can pass hostnames, IP addresses, networks, etc.\n",
      "  Ex: scanme.nmap.org, microsoft.com/24, 192.168.0.1; 10.0.0-255.1-254\n",
      "  -iL <inputfilename>: Input from list of hosts/networks\n",
      "  -iR <num hosts>: Choose random targets\n",
      "  --exclude <host1[,host2][,host3],...>: Exclude hosts/networks\n",
      "  --excludefile <exclude_file>: Exclude list from file\n",
      "HOST DISCOVERY:\n",
      "  -sL: List Scan - simply list targets to scan\n",
      "  -sn: Ping Scan - disable port scan\n",
      "  -Pn: Treat all hosts as online -- skip host discovery\n",
      "  -PS/PA/PU/PY[portlist]: TCP SYN/ACK, UDP or SCTP discovery to given ports\n",
      "  -PE/PP/PM: ICMP echo, timestamp, and netmask request discovery probes\n",
      "  -PO[protocol list]: IP Protocol Ping\n",
      "  -n/-R: Never do DNS resolution/Always resolve [default: sometimes]\n",
      "  --dns-servers <serv1[,serv2],...>: Specify custom DNS servers\n",
      "  --system-dns: Use OS's DNS resolver\n",
      "  --traceroute: Trace hop path to each host\n",
      "SCAN TECHNIQUES:\n",
      "  -sS/sT/sA/sW/sM: TCP SYN/Connect()/ACK/Window/Maimon scans\n",
      "  -sU: UDP Scan\n",
      "  -sN/sF/sX: TCP Null, FIN, and Xmas scans\n",
      "  --scanflags <flags>: Customize TCP scan flags\n",
      "  -sI <zombie host[:probeport]>: Idle scan\n",
      "  -sY/sZ: SCTP INIT/COOKIE-ECHO scans\n",
      "  -sO: IP protocol scan\n",
      "  -b <FTP relay host>: FTP bounce scan\n",
      "PORT SPECIFICATION AND SCAN ORDER:\n",
      "  -p <port ranges>: Only scan specified ports\n",
      "    Ex: -p22; -p1-65535; -p U:53,111,137,T:21-25,80,139,8080,S:9\n",
      "  --exclude-ports <port ranges>: Exclude the specified ports from scanning\n",
      "  -F: Fast mode - Scan fewer ports than the default scan\n",
      "  -r: Scan ports consecutively - don't randomize\n",
      "  --top-ports <number>: Scan <number> most common ports\n",
      "  --port-ratio <ratio>: Scan ports more common than <ratio>\n",
      "SERVICE/VERSION DETECTION:\n",
      "  -sV: Probe open ports to determine service/version info\n",
      "  --version-intensity <level>: Set from 0 (light) to 9 (try all probes)\n",
      "  --version-light: Limit to most likely probes (intensity 2)\n",
      "  --version-all: Try every single probe (intensity 9)\n",
      "  --version-trace: Show detailed version scan activity (for debugging)\n",
      "SCRIPT SCAN:\n",
      "  -sC: equivalent to --script=default\n",
      "  --script=<Lua scripts>: <Lua scripts> is a comma separated list of\n",
      "           directories, script-files or script-categories\n",
      "  --script-args=<n1=v1,[n2=v2,...]>: provide arguments to scripts\n",
      "  --script-args-file=filename: provide NSE script args in a file\n",
      "  --script-trace: Show all data sent and received\n",
      "  --script-updatedb: Update the script database.\n",
      "  --script-help=<Lua scripts>: Show help about scripts.\n",
      "           <Lua scripts> is a comma-separated list of script-files or\n",
      "           script-categories.\n",
      "OS DETECTION:\n",
      "  -O: Enable OS detection\n",
      "  --osscan-limit: Limit OS detection to promising targets\n",
      "  --osscan-guess: Guess OS more aggressively\n",
      "TIMING AND PERFORMANCE:\n",
      "  Options which take <time> are in seconds, or append 'ms' (milliseconds),\n",
      "  's' (seconds), 'm' (minutes), or 'h' (hours) to the value (e.g. 30m).\n",
      "  -T<0-5>: Set timing template (higher is faster)\n",
      "  --min-hostgroup/max-hostgroup <size>: Parallel host scan group sizes\n",
      "  --min-parallelism/max-parallelism <numprobes>: Probe parallelization\n",
      "  --min-rtt-timeout/max-rtt-timeout/initial-rtt-timeout <time>: Specifies\n",
      "      probe round trip time.\n",
      "  --max-retries <tries>: Caps number of port scan probe retransmissions.\n",
      "  --host-timeout <time>: Give up on target after this long\n",
      "  --scan-delay/--max-scan-delay <time>: Adjust delay between probes\n",
      "  --min-rate <number>: Send packets no slower than <number> per second\n",
      "  --max-rate <number>: Send packets no faster than <number> per second\n",
      "FIREWALL/IDS EVASION AND SPOOFING:\n",
      "  -f; --mtu <val>: fragment packets (optionally w/given MTU)\n",
      "  -D <decoy1,decoy2[,ME],...>: Cloak a scan with decoys\n",
      "  -S <IP_Address>: Spoof source address\n",
      "  -e <iface>: Use specified interface\n",
      "  -g/--source-port <portnum>: Use given port number\n",
      "  --proxies <url1,[url2],...>: Relay connections through HTTP/SOCKS4 proxies\n",
      "  --data <hex string>: Append a custom payload to sent packets\n",
      "  --data-string <string>: Append a custom ASCII string to sent packets\n",
      "  --data-length <num>: Append random data to sent packets\n",
      "  --ip-options <options>: Send packets with specified ip options\n",
      "  --ttl <val>: Set IP time-to-live field\n",
      "  --spoof-mac <mac address/prefix/vendor name>: Spoof your MAC address\n",
      "  --badsum: Send packets with a bogus TCP/UDP/SCTP checksum\n",
      "OUTPUT:\n",
      "  -oN/-oX/-oS/-oG <file>: Output scan in normal, XML, s|<rIpt kIddi3,\n",
      "     and Grepable format, respectively, to the given filename.\n",
      "  -oA <basename>: Output in the three major formats at once\n",
      "  -v: Increase verbosity level (use -vv or more for greater effect)\n",
      "  -d: Increase debugging level (use -dd or more for greater effect)\n",
      "  --reason: Display the reason a port is in a particular state\n",
      "  --open: Only show open (or possibly open) ports\n",
      "  --packet-trace: Show all packets sent and received\n",
      "  --iflist: Print host interfaces and routes (for debugging)\n",
      "  --append-output: Append to rather than clobber specified output files\n",
      "  --resume <filename>: Resume an aborted scan\n",
      "  --stylesheet <path/URL>: XSL stylesheet to transform XML output to HTML\n",
      "  --webxml: Reference stylesheet from Nmap.Org for more portable XML\n",
      "  --no-stylesheet: Prevent associating of XSL stylesheet w/XML output\n",
      "MISC:\n",
      "  -6: Enable IPv6 scanning\n",
      "  -A: Enable OS detection, version detection, script scanning, and traceroute\n",
      "  --datadir <dirname>: Specify custom Nmap data file location\n",
      "  --send-eth/--send-ip: Send using raw ethernet frames or IP packets\n",
      "  --privileged: Assume that the user is fully privileged\n",
      "  --unprivileged: Assume the user lacks raw socket privileges\n",
      "  -V: Print version number\n",
      "  -h: Print this help summary page.\n",
      "EXAMPLES:\n",
      "  nmap -v -A scanme.nmap.org\n",
      "  nmap -v -sn 192.168.0.0/16 10.0.0.0/8\n",
      "  nmap -v -iR 10000 -Pn -p 80\n",
      "SEE THE MAN PAGE (https://nmap.org/book/man.html) FOR MORE OPTIONS AND EXAMPLES\n"
     ]
    }
   ],
   "source": [
    "%%bash\n",
    "\n",
    "nmap"
   ]
  },
  {
   "cell_type": "markdown",
   "metadata": {},
   "source": [
    "Did you get all that?  \n",
    "Nmap is a very versatile tool, but in this notebook we're going to stick to the basics.  \n",
    "To get started, the following command will scan all of your local IP range (assuming you're in the 192.168.1.0-254 range), and will perform service identification (-sV) and will scan all ports (-p 1-65535).  \n",
    "Since you are running this as a normal user and not root it will be TCP Connect based scan that should take about 90-120 seconds.  \n",
    "If you run the command with sudo at the front it will run as a TCP SYN scan."
   ]
  },
  {
   "cell_type": "code",
   "execution_count": 2,
   "metadata": {},
   "outputs": [
    {
     "name": "stdout",
     "output_type": "stream",
     "text": [
      "\n",
      "Starting Nmap 7.60 ( https://nmap.org ) at 2018-02-15 08:07 PST\n",
      "Nmap done: 256 IP addresses (0 hosts up) scanned in 103.69 seconds\n"
     ]
    }
   ],
   "source": [
    "%%bash\n",
    "\n",
    "nmap -sV -p 1-65535 192.168.1.1/24"
   ]
  },
  {
   "cell_type": "markdown",
   "metadata": {},
   "source": [
    "This command will scan a single IP address on the network:"
   ]
  },
  {
   "cell_type": "code",
   "execution_count": 3,
   "metadata": {},
   "outputs": [
    {
     "name": "stdout",
     "output_type": "stream",
     "text": [
      "\n",
      "Starting Nmap 7.60 ( https://nmap.org ) at 2018-02-15 08:08 PST\n",
      "Nmap scan report for 192.168.0.1\n",
      "Host is up (0.0080s latency).\n",
      "Not shown: 992 filtered ports\n",
      "PORT     STATE  SERVICE\n",
      "22/tcp   closed ssh\n",
      "23/tcp   closed telnet\n",
      "80/tcp   open   http\n",
      "139/tcp  closed netbios-ssn\n",
      "443/tcp  open   https\n",
      "445/tcp  closed microsoft-ds\n",
      "1900/tcp open   upnp\n",
      "5000/tcp open   upnp\n",
      "\n",
      "Nmap done: 1 IP address (1 host up) scanned in 4.56 seconds\n"
     ]
    }
   ],
   "source": [
    "%%bash\n",
    "\n",
    "nmap 192.168.0.1"
   ]
  },
  {
   "cell_type": "markdown",
   "metadata": {},
   "source": [
    "You can also scan a host, courtesy of the kind folks at [Scanme.nmap.org](http://scanme.nmap.org/).  \n",
    "Please note:  \n",
    "\n",
    "`\n",
    "We set up this machine to help folks learn about Nmap and also to test and make sure that their Nmap installation (or Internet connection) is working properly. You are authorized to scan this machine with Nmap or other port scanners. Try not to hammer on the server too hard. A few scans in a day is fine, but don't scan 100 times a day or use this site to test your ssh brute-force password cracking tool.\n",
    "`"
   ]
  },
  {
   "cell_type": "code",
   "execution_count": 4,
   "metadata": {},
   "outputs": [
    {
     "name": "stdout",
     "output_type": "stream",
     "text": [
      "\n",
      "Starting Nmap 7.60 ( https://nmap.org ) at 2018-02-15 08:08 PST\n",
      "Nmap scan report for scanme.nmap.org (45.33.32.156)\n",
      "Host is up (0.054s latency).\n",
      "Other addresses for scanme.nmap.org (not scanned): 2600:3c01::f03c:91ff:fe18:bb2f\n",
      "Not shown: 992 closed ports\n",
      "PORT      STATE    SERVICE\n",
      "22/tcp    open     ssh\n",
      "25/tcp    filtered smtp\n",
      "80/tcp    open     http\n",
      "135/tcp   filtered msrpc\n",
      "139/tcp   filtered netbios-ssn\n",
      "445/tcp   filtered microsoft-ds\n",
      "9929/tcp  open     nping-echo\n",
      "31337/tcp open     Elite\n",
      "\n",
      "Nmap done: 1 IP address (1 host up) scanned in 4.45 seconds\n"
     ]
    }
   ],
   "source": [
    "%%bash\n",
    "\n",
    "nmap scanme.nmap.org"
   ]
  },
  {
   "cell_type": "markdown",
   "metadata": {},
   "source": [
    "Scan a range of IPs:"
   ]
  },
  {
   "cell_type": "code",
   "execution_count": 5,
   "metadata": {},
   "outputs": [
    {
     "name": "stdout",
     "output_type": "stream",
     "text": [
      "\n",
      "Starting Nmap 7.60 ( https://nmap.org ) at 2018-02-15 08:08 PST\n",
      "Nmap scan report for 192.168.0.1\n",
      "Host is up (0.0064s latency).\n",
      "Not shown: 992 filtered ports\n",
      "PORT     STATE  SERVICE\n",
      "22/tcp   closed ssh\n",
      "23/tcp   closed telnet\n",
      "80/tcp   open   http\n",
      "139/tcp  closed netbios-ssn\n",
      "443/tcp  open   https\n",
      "445/tcp  closed microsoft-ds\n",
      "1900/tcp open   upnp\n",
      "5000/tcp open   upnp\n",
      "\n",
      "Nmap scan report for 192.168.0.2\n",
      "Host is up (0.00086s latency).\n",
      "Not shown: 999 closed ports\n",
      "PORT   STATE SERVICE\n",
      "22/tcp open  ssh\n",
      "\n",
      "Nmap scan report for 192.168.0.5\n",
      "Host is up (0.0029s latency).\n",
      "Not shown: 998 closed ports\n",
      "PORT      STATE SERVICE\n",
      "23/tcp    open  telnet\n",
      "20005/tcp open  btx\n",
      "\n",
      "Nmap done: 20 IP addresses (3 hosts up) scanned in 13.22 seconds\n"
     ]
    }
   ],
   "source": [
    "%%bash\n",
    "\n",
    "nmap 192.168.0.1-20"
   ]
  },
  {
   "cell_type": "markdown",
   "metadata": {},
   "source": [
    "This command scans a subnet.  \n",
    "Scanning a subnet will allow the scan to monitor multiple hosts.  \n",
    "This command is useful when checking on multiple networks as well:"
   ]
  },
  {
   "cell_type": "code",
   "execution_count": 6,
   "metadata": {},
   "outputs": [
    {
     "name": "stdout",
     "output_type": "stream",
     "text": [
      "\n",
      "Starting Nmap 7.60 ( https://nmap.org ) at 2018-02-15 08:09 PST\n",
      "Nmap scan report for 192.168.0.1\n",
      "Host is up (0.0073s latency).\n",
      "Not shown: 992 filtered ports\n",
      "PORT     STATE  SERVICE\n",
      "22/tcp   closed ssh\n",
      "23/tcp   closed telnet\n",
      "80/tcp   open   http\n",
      "139/tcp  closed netbios-ssn\n",
      "443/tcp  open   https\n",
      "445/tcp  closed microsoft-ds\n",
      "1900/tcp open   upnp\n",
      "5000/tcp open   upnp\n",
      "\n",
      "Nmap scan report for 192.168.0.2\n",
      "Host is up (0.00081s latency).\n",
      "Not shown: 999 closed ports\n",
      "PORT   STATE SERVICE\n",
      "22/tcp open  ssh\n",
      "\n",
      "Nmap scan report for 192.168.0.5\n",
      "Host is up (0.029s latency).\n",
      "Not shown: 998 closed ports\n",
      "PORT      STATE SERVICE\n",
      "23/tcp    open  telnet\n",
      "20005/tcp open  btx\n",
      "\n",
      "Nmap done: 256 IP addresses (3 hosts up) scanned in 13.39 seconds\n"
     ]
    }
   ],
   "source": [
    "%%bash\n",
    "\n",
    "nmap 192.168.0.1/24"
   ]
  },
  {
   "cell_type": "markdown",
   "metadata": {},
   "source": [
    "### Nmap port selection"
   ]
  },
  {
   "cell_type": "markdown",
   "metadata": {},
   "source": [
    "To utilize Nmap effectively, you will need to understand how to use the port selection options.  \n",
    "The port selection options determine what ports will be scanned and whether the scan order is random or in a sequential order."
   ]
  },
  {
   "cell_type": "markdown",
   "metadata": {},
   "source": [
    "This is the command to scan a single port.  \n",
    "Some malware will consistently operate on a specific port on every host it infects.  \n",
    "By knowing these ports, you can sometimes quickly determine what kind of malware you are dealing with.  \n",
    "A single port scan would be useful in this situation:"
   ]
  },
  {
   "cell_type": "code",
   "execution_count": 7,
   "metadata": {},
   "outputs": [
    {
     "name": "stdout",
     "output_type": "stream",
     "text": [
      "\n",
      "Starting Nmap 7.60 ( https://nmap.org ) at 2018-02-15 08:09 PST\n",
      "Nmap scan report for 192.168.0.1\n",
      "Host is up (0.015s latency).\n",
      "\n",
      "PORT   STATE SERVICE\n",
      "80/tcp open  http\n",
      "\n",
      "Nmap done: 1 IP address (1 host up) scanned in 0.08 seconds\n"
     ]
    }
   ],
   "source": [
    "%%bash\n",
    "\n",
    "nmap -p 80 192.168.0.1"
   ]
  },
  {
   "cell_type": "code",
   "execution_count": null,
   "metadata": {},
   "outputs": [],
   "source": []
  }
 ],
 "metadata": {
  "kernelspec": {
   "display_name": "Python 2",
   "language": "python",
   "name": "python2"
  },
  "language_info": {
   "codemirror_mode": {
    "name": "ipython",
    "version": 2
   },
   "file_extension": ".py",
   "mimetype": "text/x-python",
   "name": "python",
   "nbconvert_exporter": "python",
   "pygments_lexer": "ipython2",
   "version": "2.7.13"
  }
 },
 "nbformat": 4,
 "nbformat_minor": 2
}
