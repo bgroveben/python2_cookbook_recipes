{
 "cells": [
  {
   "cell_type": "markdown",
   "metadata": {},
   "source": [
    "# Introduction to nmap"
   ]
  },
  {
   "cell_type": "markdown",
   "metadata": {},
   "source": [
    "[Nmap (\"Network Mapper\")](https://nmap.org/) is a [free and open source](https://svn.nmap.org/nmap/COPYING) utility for network discovery and security auditing.  \n",
    "There is a [Python package](https://pypi.python.org/pypi/python-nmap) called [python-nmap](https://xael.org/pages/python-nmap-en.html) that helps in using the nmap port scanner."
   ]
  },
  {
   "cell_type": "code",
   "execution_count": 12,
   "metadata": {},
   "outputs": [],
   "source": [
    "import nmap\n",
    "# https://github.com/python/cpython/blob/2.7/Lib/inspect.py\n",
    "import inspect"
   ]
  },
  {
   "cell_type": "markdown",
   "metadata": {},
   "source": [
    "### Let's begin with a quick examination:"
   ]
  },
  {
   "cell_type": "code",
   "execution_count": 14,
   "metadata": {},
   "outputs": [
    {
     "data": {
      "text/plain": [
       "<nmap.nmap.PortScanner at 0x109e3b110>"
      ]
     },
     "execution_count": 14,
     "metadata": {},
     "output_type": "execute_result"
    }
   ],
   "source": [
    "nm = nmap.PortScanner()\n",
    "nm"
   ]
  },
  {
   "cell_type": "code",
   "execution_count": 15,
   "metadata": {},
   "outputs": [
    {
     "data": {
      "text/plain": [
       "[('_PortScanner__process', None),\n",
       " ('__class__', nmap.nmap.PortScanner),\n",
       " ('__delattr__',\n",
       "  <method-wrapper '__delattr__' of PortScanner object at 0x109e3b110>),\n",
       " ('__dict__',\n",
       "  {'_PortScanner__process': None,\n",
       "   '_nmap_last_output': u'\\nNmap version 7.60 ( https://nmap.org )\\nPlatform: x86_64-apple-darwin17.0.0\\nCompiled with: liblua-5.3.3 openssl-1.0.2l nmap-libssh2-1.8.0 libz-1.2.8 nmap-libpcre-7.6 nmap-libpcap-1.7.3 nmap-libdnet-1.12 ipv6\\nCompiled without:\\nAvailable nsock engines: kqueue poll select\\n',\n",
       "   '_nmap_path': 'nmap',\n",
       "   '_nmap_subversion_number': 60,\n",
       "   '_nmap_version_number': 7,\n",
       "   '_scan_result': {}}),\n",
       " ('__doc__', '\\n    PortScanner class allows to use nmap from python\\n\\n    '),\n",
       " ('__format__', <function __format__>),\n",
       " ('__getattribute__',\n",
       "  <method-wrapper '__getattribute__' of PortScanner object at 0x109e3b110>),\n",
       " ('__getitem__',\n",
       "  <bound method PortScanner.__getitem__ of <nmap.nmap.PortScanner object at 0x109e3b110>>),\n",
       " ('__hash__',\n",
       "  <method-wrapper '__hash__' of PortScanner object at 0x109e3b110>),\n",
       " ('__init__',\n",
       "  <bound method PortScanner.__init__ of <nmap.nmap.PortScanner object at 0x109e3b110>>),\n",
       " ('__module__', 'nmap.nmap'),\n",
       " ('__new__', <function __new__>),\n",
       " ('__reduce__', <function __reduce__>),\n",
       " ('__reduce_ex__', <function __reduce_ex__>),\n",
       " ('__repr__',\n",
       "  <method-wrapper '__repr__' of PortScanner object at 0x109e3b110>),\n",
       " ('__setattr__',\n",
       "  <method-wrapper '__setattr__' of PortScanner object at 0x109e3b110>),\n",
       " ('__sizeof__', <function __sizeof__>),\n",
       " ('__str__', <method-wrapper '__str__' of PortScanner object at 0x109e3b110>),\n",
       " ('__subclasshook__', <function __subclasshook__>),\n",
       " ('__weakref__', None),\n",
       " ('_nmap_last_output',\n",
       "  u'\\nNmap version 7.60 ( https://nmap.org )\\nPlatform: x86_64-apple-darwin17.0.0\\nCompiled with: liblua-5.3.3 openssl-1.0.2l nmap-libssh2-1.8.0 libz-1.2.8 nmap-libpcre-7.6 nmap-libpcap-1.7.3 nmap-libdnet-1.12 ipv6\\nCompiled without:\\nAvailable nsock engines: kqueue poll select\\n'),\n",
       " ('_nmap_path', 'nmap'),\n",
       " ('_nmap_subversion_number', 60),\n",
       " ('_nmap_version_number', 7),\n",
       " ('_scan_result', {}),\n",
       " ('all_hosts',\n",
       "  <bound method PortScanner.all_hosts of <nmap.nmap.PortScanner object at 0x109e3b110>>),\n",
       " ('analyse_nmap_xml_scan',\n",
       "  <bound method PortScanner.analyse_nmap_xml_scan of <nmap.nmap.PortScanner object at 0x109e3b110>>),\n",
       " ('command_line',\n",
       "  <bound method PortScanner.command_line of <nmap.nmap.PortScanner object at 0x109e3b110>>),\n",
       " ('csv',\n",
       "  <bound method PortScanner.csv of <nmap.nmap.PortScanner object at 0x109e3b110>>),\n",
       " ('get_nmap_last_output',\n",
       "  <bound method PortScanner.get_nmap_last_output of <nmap.nmap.PortScanner object at 0x109e3b110>>),\n",
       " ('has_host',\n",
       "  <bound method PortScanner.has_host of <nmap.nmap.PortScanner object at 0x109e3b110>>),\n",
       " ('listscan',\n",
       "  <bound method PortScanner.listscan of <nmap.nmap.PortScanner object at 0x109e3b110>>),\n",
       " ('nmap_version',\n",
       "  <bound method PortScanner.nmap_version of <nmap.nmap.PortScanner object at 0x109e3b110>>),\n",
       " ('scan',\n",
       "  <bound method PortScanner.scan of <nmap.nmap.PortScanner object at 0x109e3b110>>),\n",
       " ('scaninfo',\n",
       "  <bound method PortScanner.scaninfo of <nmap.nmap.PortScanner object at 0x109e3b110>>),\n",
       " ('scanstats',\n",
       "  <bound method PortScanner.scanstats of <nmap.nmap.PortScanner object at 0x109e3b110>>)]"
      ]
     },
     "execution_count": 15,
     "metadata": {},
     "output_type": "execute_result"
    }
   ],
   "source": [
    "# https://docs.python.org/2/library/inspect.html#types-and-members\n",
    "inspect.getmembers(nm)"
   ]
  },
  {
   "cell_type": "markdown",
   "metadata": {},
   "source": [
    "### Now we can move on to a demonstration:"
   ]
  },
  {
   "cell_type": "code",
   "execution_count": null,
   "metadata": {},
   "outputs": [],
   "source": []
  }
 ],
 "metadata": {
  "kernelspec": {
   "display_name": "Python 2",
   "language": "python",
   "name": "python2"
  },
  "language_info": {
   "codemirror_mode": {
    "name": "ipython",
    "version": 2
   },
   "file_extension": ".py",
   "mimetype": "text/x-python",
   "name": "python",
   "nbconvert_exporter": "python",
   "pygments_lexer": "ipython2",
   "version": "2.7.13"
  }
 },
 "nbformat": 4,
 "nbformat_minor": 2
}
