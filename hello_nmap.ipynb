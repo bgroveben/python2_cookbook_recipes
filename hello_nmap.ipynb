{
 "cells": [
  {
   "cell_type": "markdown",
   "metadata": {},
   "source": [
    "# Introduction to nmap"
   ]
  },
  {
   "cell_type": "markdown",
   "metadata": {},
   "source": [
    "[Nmap (\"Network Mapper\")](https://nmap.org/) is a [free and open source](https://svn.nmap.org/nmap/COPYING) utility for network discovery and security auditing.  \n",
    "There is a [Python package](https://pypi.python.org/pypi/python-nmap) called [python-nmap](https://xael.org/pages/python-nmap-en.html) that helps in using the nmap port scanner.  \n",
    "The documentation for nmap can [be found here](https://nmap.org/docs.html), and the Github mirror of the code repository [is here](https://github.com/nmap/nmap).  \n",
    "For this lesson to work, you need to have at least one port open, preferably 2 or more."
   ]
  },
  {
   "cell_type": "code",
   "execution_count": 1,
   "metadata": {},
   "outputs": [],
   "source": [
    "import nmap\n",
    "# https://github.com/python/cpython/blob/2.7/Lib/inspect.py\n",
    "import inspect"
   ]
  },
  {
   "cell_type": "markdown",
   "metadata": {},
   "source": [
    "### Let's begin with a quick examination:"
   ]
  },
  {
   "cell_type": "code",
   "execution_count": 2,
   "metadata": {},
   "outputs": [
    {
     "data": {
      "text/plain": [
       "<nmap.nmap.PortScanner at 0x10aa2bd50>"
      ]
     },
     "execution_count": 2,
     "metadata": {},
     "output_type": "execute_result"
    }
   ],
   "source": [
    "nm = nmap.PortScanner()\n",
    "nm"
   ]
  },
  {
   "cell_type": "code",
   "execution_count": 3,
   "metadata": {},
   "outputs": [
    {
     "data": {
      "text/plain": [
       "[('_PortScanner__process', None),\n",
       " ('__class__', nmap.nmap.PortScanner),\n",
       " ('__delattr__',\n",
       "  <method-wrapper '__delattr__' of PortScanner object at 0x10aa2bd50>),\n",
       " ('__dict__',\n",
       "  {'_PortScanner__process': None,\n",
       "   '_nmap_last_output': u'\\nNmap version 7.60 ( https://nmap.org )\\nPlatform: x86_64-apple-darwin17.0.0\\nCompiled with: liblua-5.3.3 openssl-1.0.2l nmap-libssh2-1.8.0 libz-1.2.8 nmap-libpcre-7.6 nmap-libpcap-1.7.3 nmap-libdnet-1.12 ipv6\\nCompiled without:\\nAvailable nsock engines: kqueue poll select\\n',\n",
       "   '_nmap_path': 'nmap',\n",
       "   '_nmap_subversion_number': 60,\n",
       "   '_nmap_version_number': 7,\n",
       "   '_scan_result': {}}),\n",
       " ('__doc__', '\\n    PortScanner class allows to use nmap from python\\n\\n    '),\n",
       " ('__format__', <function __format__>),\n",
       " ('__getattribute__',\n",
       "  <method-wrapper '__getattribute__' of PortScanner object at 0x10aa2bd50>),\n",
       " ('__getitem__',\n",
       "  <bound method PortScanner.__getitem__ of <nmap.nmap.PortScanner object at 0x10aa2bd50>>),\n",
       " ('__hash__',\n",
       "  <method-wrapper '__hash__' of PortScanner object at 0x10aa2bd50>),\n",
       " ('__init__',\n",
       "  <bound method PortScanner.__init__ of <nmap.nmap.PortScanner object at 0x10aa2bd50>>),\n",
       " ('__module__', 'nmap.nmap'),\n",
       " ('__new__', <function __new__>),\n",
       " ('__reduce__', <function __reduce__>),\n",
       " ('__reduce_ex__', <function __reduce_ex__>),\n",
       " ('__repr__',\n",
       "  <method-wrapper '__repr__' of PortScanner object at 0x10aa2bd50>),\n",
       " ('__setattr__',\n",
       "  <method-wrapper '__setattr__' of PortScanner object at 0x10aa2bd50>),\n",
       " ('__sizeof__', <function __sizeof__>),\n",
       " ('__str__', <method-wrapper '__str__' of PortScanner object at 0x10aa2bd50>),\n",
       " ('__subclasshook__', <function __subclasshook__>),\n",
       " ('__weakref__', None),\n",
       " ('_nmap_last_output',\n",
       "  u'\\nNmap version 7.60 ( https://nmap.org )\\nPlatform: x86_64-apple-darwin17.0.0\\nCompiled with: liblua-5.3.3 openssl-1.0.2l nmap-libssh2-1.8.0 libz-1.2.8 nmap-libpcre-7.6 nmap-libpcap-1.7.3 nmap-libdnet-1.12 ipv6\\nCompiled without:\\nAvailable nsock engines: kqueue poll select\\n'),\n",
       " ('_nmap_path', 'nmap'),\n",
       " ('_nmap_subversion_number', 60),\n",
       " ('_nmap_version_number', 7),\n",
       " ('_scan_result', {}),\n",
       " ('all_hosts',\n",
       "  <bound method PortScanner.all_hosts of <nmap.nmap.PortScanner object at 0x10aa2bd50>>),\n",
       " ('analyse_nmap_xml_scan',\n",
       "  <bound method PortScanner.analyse_nmap_xml_scan of <nmap.nmap.PortScanner object at 0x10aa2bd50>>),\n",
       " ('command_line',\n",
       "  <bound method PortScanner.command_line of <nmap.nmap.PortScanner object at 0x10aa2bd50>>),\n",
       " ('csv',\n",
       "  <bound method PortScanner.csv of <nmap.nmap.PortScanner object at 0x10aa2bd50>>),\n",
       " ('get_nmap_last_output',\n",
       "  <bound method PortScanner.get_nmap_last_output of <nmap.nmap.PortScanner object at 0x10aa2bd50>>),\n",
       " ('has_host',\n",
       "  <bound method PortScanner.has_host of <nmap.nmap.PortScanner object at 0x10aa2bd50>>),\n",
       " ('listscan',\n",
       "  <bound method PortScanner.listscan of <nmap.nmap.PortScanner object at 0x10aa2bd50>>),\n",
       " ('nmap_version',\n",
       "  <bound method PortScanner.nmap_version of <nmap.nmap.PortScanner object at 0x10aa2bd50>>),\n",
       " ('scan',\n",
       "  <bound method PortScanner.scan of <nmap.nmap.PortScanner object at 0x10aa2bd50>>),\n",
       " ('scaninfo',\n",
       "  <bound method PortScanner.scaninfo of <nmap.nmap.PortScanner object at 0x10aa2bd50>>),\n",
       " ('scanstats',\n",
       "  <bound method PortScanner.scanstats of <nmap.nmap.PortScanner object at 0x10aa2bd50>>)]"
      ]
     },
     "execution_count": 3,
     "metadata": {},
     "output_type": "execute_result"
    }
   ],
   "source": [
    "# https://docs.python.org/2/library/inspect.html#types-and-members\n",
    "inspect.getmembers(nm)"
   ]
  },
  {
   "cell_type": "markdown",
   "metadata": {},
   "source": [
    "### Now we can move on to a demonstration:"
   ]
  },
  {
   "cell_type": "code",
   "execution_count": 4,
   "metadata": {},
   "outputs": [
    {
     "data": {
      "text/plain": [
       "{'nmap': {'command_line': 'nmap -oX - -p 21-443 -sV 127.0.0.1',\n",
       "  'scaninfo': {'tcp': {'method': 'connect', 'services': '21-443'}},\n",
       "  'scanstats': {'downhosts': '0',\n",
       "   'elapsed': '1.50',\n",
       "   'timestr': 'Wed Feb 14 17:33:03 2018',\n",
       "   'totalhosts': '1',\n",
       "   'uphosts': '1'}},\n",
       " 'scan': {'127.0.0.1': {'addresses': {'ipv4': '127.0.0.1'},\n",
       "   'hostnames': [{'name': 'localhost', 'type': 'PTR'}],\n",
       "   'status': {'reason': 'conn-refused', 'state': 'up'},\n",
       "   'tcp': {22: {'conf': '10',\n",
       "     'cpe': 'cpe:/a:openbsd:openssh:7.6',\n",
       "     'extrainfo': 'protocol 2.0',\n",
       "     'name': 'ssh',\n",
       "     'product': 'OpenSSH',\n",
       "     'reason': 'syn-ack',\n",
       "     'state': 'open',\n",
       "     'version': '7.6'}},\n",
       "   'vendor': {}}}}"
      ]
     },
     "execution_count": 4,
     "metadata": {},
     "output_type": "execute_result"
    }
   ],
   "source": [
    "nm.scan('127.0.0.1', '21-443')"
   ]
  },
  {
   "cell_type": "code",
   "execution_count": 5,
   "metadata": {},
   "outputs": [
    {
     "data": {
      "text/plain": [
       "'nmap -oX - -p 21-443 -sV 127.0.0.1'"
      ]
     },
     "execution_count": 5,
     "metadata": {},
     "output_type": "execute_result"
    }
   ],
   "source": [
    "nm.command_line()"
   ]
  },
  {
   "cell_type": "code",
   "execution_count": 6,
   "metadata": {},
   "outputs": [
    {
     "data": {
      "text/plain": [
       "{'tcp': {'method': 'connect', 'services': '21-443'}}"
      ]
     },
     "execution_count": 6,
     "metadata": {},
     "output_type": "execute_result"
    }
   ],
   "source": [
    "nm.scaninfo()"
   ]
  },
  {
   "cell_type": "code",
   "execution_count": 7,
   "metadata": {},
   "outputs": [
    {
     "data": {
      "text/plain": [
       "['127.0.0.1']"
      ]
     },
     "execution_count": 7,
     "metadata": {},
     "output_type": "execute_result"
    }
   ],
   "source": [
    "nm.all_hosts()"
   ]
  },
  {
   "cell_type": "code",
   "execution_count": 8,
   "metadata": {},
   "outputs": [
    {
     "data": {
      "text/plain": [
       "'localhost'"
      ]
     },
     "execution_count": 8,
     "metadata": {},
     "output_type": "execute_result"
    }
   ],
   "source": [
    "nm['127.0.0.1'].hostname()"
   ]
  },
  {
   "cell_type": "code",
   "execution_count": 9,
   "metadata": {},
   "outputs": [
    {
     "data": {
      "text/plain": [
       "'up'"
      ]
     },
     "execution_count": 9,
     "metadata": {},
     "output_type": "execute_result"
    }
   ],
   "source": [
    "nm['127.0.0.1'].state()"
   ]
  },
  {
   "cell_type": "code",
   "execution_count": 10,
   "metadata": {},
   "outputs": [
    {
     "data": {
      "text/plain": [
       "['tcp']"
      ]
     },
     "execution_count": 10,
     "metadata": {},
     "output_type": "execute_result"
    }
   ],
   "source": [
    "nm['127.0.0.1'].all_protocols()"
   ]
  },
  {
   "cell_type": "code",
   "execution_count": 11,
   "metadata": {},
   "outputs": [
    {
     "data": {
      "text/plain": [
       "[22]"
      ]
     },
     "execution_count": 11,
     "metadata": {},
     "output_type": "execute_result"
    }
   ],
   "source": [
    "nm['127.0.0.1']['tcp'].keys()"
   ]
  },
  {
   "cell_type": "code",
   "execution_count": 12,
   "metadata": {},
   "outputs": [
    {
     "data": {
      "text/plain": [
       "True"
      ]
     },
     "execution_count": 12,
     "metadata": {},
     "output_type": "execute_result"
    }
   ],
   "source": [
    "nm['127.0.0.1'].has_tcp(22)"
   ]
  },
  {
   "cell_type": "code",
   "execution_count": 13,
   "metadata": {},
   "outputs": [
    {
     "data": {
      "text/plain": [
       "False"
      ]
     },
     "execution_count": 13,
     "metadata": {},
     "output_type": "execute_result"
    }
   ],
   "source": [
    "nm['127.0.0.1'].has_tcp(21)"
   ]
  },
  {
   "cell_type": "code",
   "execution_count": 14,
   "metadata": {},
   "outputs": [
    {
     "data": {
      "text/plain": [
       "{'conf': '10',\n",
       " 'cpe': 'cpe:/a:openbsd:openssh:7.6',\n",
       " 'extrainfo': 'protocol 2.0',\n",
       " 'name': 'ssh',\n",
       " 'product': 'OpenSSH',\n",
       " 'reason': 'syn-ack',\n",
       " 'state': 'open',\n",
       " 'version': '7.6'}"
      ]
     },
     "execution_count": 14,
     "metadata": {},
     "output_type": "execute_result"
    }
   ],
   "source": [
    "nm['127.0.0.1']['tcp'][22]"
   ]
  },
  {
   "cell_type": "code",
   "execution_count": 15,
   "metadata": {},
   "outputs": [
    {
     "data": {
      "text/plain": [
       "{'conf': '10',\n",
       " 'cpe': 'cpe:/a:openbsd:openssh:7.6',\n",
       " 'extrainfo': 'protocol 2.0',\n",
       " 'name': 'ssh',\n",
       " 'product': 'OpenSSH',\n",
       " 'reason': 'syn-ack',\n",
       " 'state': 'open',\n",
       " 'version': '7.6'}"
      ]
     },
     "execution_count": 15,
     "metadata": {},
     "output_type": "execute_result"
    }
   ],
   "source": [
    "nm['127.0.0.1'].tcp(22)"
   ]
  },
  {
   "cell_type": "code",
   "execution_count": 16,
   "metadata": {},
   "outputs": [
    {
     "data": {
      "text/plain": [
       "'open'"
      ]
     },
     "execution_count": 16,
     "metadata": {},
     "output_type": "execute_result"
    }
   ],
   "source": [
    "nm['127.0.0.1']['tcp'][22]['state']"
   ]
  },
  {
   "cell_type": "markdown",
   "metadata": {},
   "source": [
    "### In this section we will write some short scripts:"
   ]
  },
  {
   "cell_type": "markdown",
   "metadata": {},
   "source": [
    "The following scripts [from the documentation](https://xael.org/pages/python-nmap-en.html) will print out selected information gathered during a port scan."
   ]
  },
  {
   "cell_type": "code",
   "execution_count": 17,
   "metadata": {},
   "outputs": [
    {
     "name": "stdout",
     "output_type": "stream",
     "text": [
      "--------------------------------------------------------------------------------\n",
      "Host : 127.0.0.1 (localhost)\n",
      "State : up\n",
      "------------------------------\n",
      "Protocol : tcp\n",
      "Port : 22\tState : open\n"
     ]
    }
   ],
   "source": [
    "for host in nm.all_hosts():\n",
    "    print '-'*80\n",
    "    print 'Host : %s (%s)' % (host, nm[host].hostname())\n",
    "    print 'State : %s' % nm[host].state()\n",
    "    for protocol in nm[host].all_protocols():\n",
    "        print '-'*30\n",
    "        print 'Protocol : %s' % protocol\n",
    "        lport = nm[host][protocol].keys()\n",
    "        lport.sort()\n",
    "        for port in lport:\n",
    "            print 'Port : %s\\tState : %s' % (port, nm[host][protocol][port]['state'])"
   ]
  },
  {
   "cell_type": "code",
   "execution_count": 18,
   "metadata": {},
   "outputs": [
    {
     "name": "stdout",
     "output_type": "stream",
     "text": [
      "host;hostname;hostname_type;protocol;port;name;state;product;extrainfo;reason;version;conf;cpe\r\n",
      "127.0.0.1;localhost;PTR;tcp;22;ssh;open;OpenSSH;protocol 2.0;syn-ack;7.6;10;cpe:/a:openbsd:openssh:7.6\r\n",
      "\n"
     ]
    }
   ],
   "source": [
    "print nm.csv()"
   ]
  },
  {
   "cell_type": "code",
   "execution_count": 19,
   "metadata": {},
   "outputs": [
    {
     "data": {
      "text/plain": [
       "{'nmap': {'command_line': 'nmap -oX - -n -sP -PE -PA21,23,80,3389 192.168.1.0/24',\n",
       "  'scaninfo': {'warning': [u'Warning:  You are not root -- using TCP pingscan rather than ICMP\\n']},\n",
       "  'scanstats': {'downhosts': '256',\n",
       "   'elapsed': '206.70',\n",
       "   'timestr': 'Wed Feb 14 17:36:29 2018',\n",
       "   'totalhosts': '256',\n",
       "   'uphosts': '0'}},\n",
       " 'scan': {}}"
      ]
     },
     "execution_count": 19,
     "metadata": {},
     "output_type": "execute_result"
    }
   ],
   "source": [
    "# The following line of code will take 192 seconds to run (8 seconds for 24 ports).\n",
    "# It was time to get more coffee anyway.\n",
    "# Then you can read about port scanning techniques.\n",
    "# https://nmap.org/book/man-port-scanning-techniques.html\n",
    "nm.scan(hosts='192.168.1.0/24', arguments='-n -sP -PE -PA21,23,80,3389')"
   ]
  },
  {
   "cell_type": "code",
   "execution_count": 20,
   "metadata": {},
   "outputs": [],
   "source": [
    "hosts_list = [(x, nm[x]['status']['state']) for x in nm.all_hosts()]\n",
    "for host, status in hosts_list:\n",
    "    print '{0}:{1}'.host"
   ]
  },
  {
   "cell_type": "markdown",
   "metadata": {},
   "source": [
    "### Nmap can also perform operations asynchronously:"
   ]
  },
  {
   "cell_type": "code",
   "execution_count": 21,
   "metadata": {},
   "outputs": [
    {
     "data": {
      "text/plain": [
       "<nmap.nmap.PortScannerAsync at 0x10aa59e90>"
      ]
     },
     "execution_count": 21,
     "metadata": {},
     "output_type": "execute_result"
    }
   ],
   "source": [
    "nma = nmap.PortScannerAsync()\n",
    "nma"
   ]
  },
  {
   "cell_type": "code",
   "execution_count": 22,
   "metadata": {},
   "outputs": [],
   "source": [
    "def callback_result(host, scan_result):\n",
    "    print '-'*30\n",
    "    print host, scan_result"
   ]
  },
  {
   "cell_type": "code",
   "execution_count": 23,
   "metadata": {},
   "outputs": [
    {
     "name": "stdout",
     "output_type": "stream",
     "text": [
      "Waiting >>>\n",
      "Waiting >>>\n",
      "Waiting >>>\n",
      "------------------------------\n",
      "192.168.1.0 {'nmap': {'scanstats': {'uphosts': '0', 'timestr': 'Wed Feb 14 17:36:35 2018', 'downhosts': '1', 'totalhosts': '1', 'elapsed': '3.01'}, 'scaninfo': {}, 'command_line': 'nmap -oX - -sP 192.168.1.0'}, 'scan': {}}\n",
      "Waiting >>>\n",
      "Waiting >>>\n",
      "------------------------------\n",
      "192.168.1.1 {'nmap': {'scanstats': {'uphosts': '0', 'timestr': 'Wed Feb 14 17:36:38 2018', 'downhosts': '1', 'totalhosts': '1', 'elapsed': '3.01'}, 'scaninfo': {}, 'command_line': 'nmap -oX - -sP 192.168.1.1'}, 'scan': {}}\n",
      "Waiting >>>\n",
      "------------------------------\n",
      "192.168.1.2 {'nmap': {'scanstats': {'uphosts': '0', 'timestr': 'Wed Feb 14 17:36:41 2018', 'downhosts': '1', 'totalhosts': '1', 'elapsed': '3.01'}, 'scaninfo': {}, 'command_line': 'nmap -oX - -sP 192.168.1.2'}, 'scan': {}}\n",
      "Waiting >>>\n",
      "Waiting >>>\n",
      "------------------------------\n",
      "192.168.1.3 {'nmap': {'scanstats': {'uphosts': '0', 'timestr': 'Wed Feb 14 17:36:44 2018', 'downhosts': '1', 'totalhosts': '1', 'elapsed': '3.01'}, 'scaninfo': {}, 'command_line': 'nmap -oX - -sP 192.168.1.3'}, 'scan': {}}\n"
     ]
    }
   ],
   "source": [
    "# Remember earlier when you had to wait for 192 seconds?\n",
    "# Now the wait is longer.\n",
    "# Try to figure out how to speed it up using the docs you read earlier.\n",
    "# Not just the page that you linked to. Try harder.\n",
    "nma.scan(hosts='192.168.1.0/30', arguments='-sP', callback=callback_result)\n",
    "while nma.still_scanning():\n",
    "    print \"Waiting >>>\"\n",
    "    nma.wait(2)"
   ]
  },
  {
   "cell_type": "code",
   "execution_count": 24,
   "metadata": {},
   "outputs": [
    {
     "name": "stdout",
     "output_type": "stream",
     "text": [
      "('127.0.0.0', {'nmap': {'scanstats': {'uphosts': '0', 'timestr': 'Wed Feb 14 17:36:48 2018', 'downhosts': '1', 'totalhosts': '1', 'elapsed': '3.25'}, 'scaninfo': {'tcp': {'services': '21-25', 'method': 'connect'}}, 'command_line': 'nmap -oX - -p 21-25 -sV 127.0.0.0'}, 'scan': {}})\n",
      "('127.0.0.1', {'nmap': {'scanstats': {'uphosts': '1', 'timestr': 'Wed Feb 14 17:36:48 2018', 'downhosts': '0', 'totalhosts': '1', 'elapsed': '0.35'}, 'scaninfo': {'tcp': {'services': '21-25', 'method': 'connect'}}, 'command_line': 'nmap -oX - -p 21-25 -sV 127.0.0.1'}, 'scan': {'127.0.0.1': {'status': {'state': 'up', 'reason': 'conn-refused'}, 'hostnames': [{'type': 'PTR', 'name': 'localhost'}], 'vendor': {}, 'addresses': {'ipv4': '127.0.0.1'}, 'tcp': {24: {'product': '', 'state': 'closed', 'version': '', 'name': 'priv-mail', 'conf': '3', 'extrainfo': '', 'reason': 'conn-refused', 'cpe': ''}, 25: {'product': '', 'state': 'closed', 'version': '', 'name': 'smtp', 'conf': '3', 'extrainfo': '', 'reason': 'conn-refused', 'cpe': ''}, 21: {'product': '', 'state': 'closed', 'version': '', 'name': 'ftp', 'conf': '3', 'extrainfo': '', 'reason': 'conn-refused', 'cpe': ''}, 22: {'product': 'OpenSSH', 'state': 'open', 'version': '7.6', 'name': 'ssh', 'conf': '10', 'extrainfo': 'protocol 2.0', 'reason': 'syn-ack', 'cpe': 'cpe:/a:openbsd:openssh:7.6'}, 23: {'product': '', 'state': 'closed', 'version': '', 'name': 'telnet', 'conf': '3', 'extrainfo': '', 'reason': 'conn-refused', 'cpe': ''}}}}})\n",
      "('127.0.0.10', {'nmap': {'scanstats': {'uphosts': '0', 'timestr': 'Wed Feb 14 17:36:51 2018', 'downhosts': '1', 'totalhosts': '1', 'elapsed': '3.25'}, 'scaninfo': {'tcp': {'services': '21-25', 'method': 'connect'}}, 'command_line': 'nmap -oX - -p 21-25 -sV 127.0.0.10'}, 'scan': {}})\n",
      "('127.0.0.100', {'nmap': {'scanstats': {'uphosts': '0', 'timestr': 'Wed Feb 14 17:36:55 2018', 'downhosts': '1', 'totalhosts': '1', 'elapsed': '3.26'}, 'scaninfo': {'tcp': {'services': '21-25', 'method': 'connect'}}, 'command_line': 'nmap -oX - -p 21-25 -sV 127.0.0.100'}, 'scan': {}})\n",
      "('127.0.0.101', {'nmap': {'scanstats': {'uphosts': '0', 'timestr': 'Wed Feb 14 17:36:58 2018', 'downhosts': '1', 'totalhosts': '1', 'elapsed': '3.26'}, 'scaninfo': {'tcp': {'services': '21-25', 'method': 'connect'}}, 'command_line': 'nmap -oX - -p 21-25 -sV 127.0.0.101'}, 'scan': {}})\n",
      "('127.0.0.102', {'nmap': {'scanstats': {'uphosts': '0', 'timestr': 'Wed Feb 14 17:37:01 2018', 'downhosts': '1', 'totalhosts': '1', 'elapsed': '3.25'}, 'scaninfo': {'tcp': {'services': '21-25', 'method': 'connect'}}, 'command_line': 'nmap -oX - -p 21-25 -sV 127.0.0.102'}, 'scan': {}})\n",
      "('127.0.0.103', {'nmap': {'scanstats': {'uphosts': '0', 'timestr': 'Wed Feb 14 17:37:05 2018', 'downhosts': '1', 'totalhosts': '1', 'elapsed': '3.26'}, 'scaninfo': {'tcp': {'services': '21-25', 'method': 'connect'}}, 'command_line': 'nmap -oX - -p 21-25 -sV 127.0.0.103'}, 'scan': {}})\n",
      "('127.0.0.104', {'nmap': {'scanstats': {'uphosts': '0', 'timestr': 'Wed Feb 14 17:37:08 2018', 'downhosts': '1', 'totalhosts': '1', 'elapsed': '3.26'}, 'scaninfo': {'tcp': {'services': '21-25', 'method': 'connect'}}, 'command_line': 'nmap -oX - -p 21-25 -sV 127.0.0.104'}, 'scan': {}})\n",
      "('127.0.0.105', {'nmap': {'scanstats': {'uphosts': '0', 'timestr': 'Wed Feb 14 17:37:11 2018', 'downhosts': '1', 'totalhosts': '1', 'elapsed': '3.26'}, 'scaninfo': {'tcp': {'services': '21-25', 'method': 'connect'}}, 'command_line': 'nmap -oX - -p 21-25 -sV 127.0.0.105'}, 'scan': {}})\n",
      "('127.0.0.106', {'nmap': {'scanstats': {'uphosts': '0', 'timestr': 'Wed Feb 14 17:37:15 2018', 'downhosts': '1', 'totalhosts': '1', 'elapsed': '3.25'}, 'scaninfo': {'tcp': {'services': '21-25', 'method': 'connect'}}, 'command_line': 'nmap -oX - -p 21-25 -sV 127.0.0.106'}, 'scan': {}})\n",
      "('127.0.0.107', {'nmap': {'scanstats': {'uphosts': '0', 'timestr': 'Wed Feb 14 17:37:18 2018', 'downhosts': '1', 'totalhosts': '1', 'elapsed': '3.26'}, 'scaninfo': {'tcp': {'services': '21-25', 'method': 'connect'}}, 'command_line': 'nmap -oX - -p 21-25 -sV 127.0.0.107'}, 'scan': {}})\n",
      "('127.0.0.108', {'nmap': {'scanstats': {'uphosts': '0', 'timestr': 'Wed Feb 14 17:37:21 2018', 'downhosts': '1', 'totalhosts': '1', 'elapsed': '3.25'}, 'scaninfo': {'tcp': {'services': '21-25', 'method': 'connect'}}, 'command_line': 'nmap -oX - -p 21-25 -sV 127.0.0.108'}, 'scan': {}})\n",
      "('127.0.0.109', {'nmap': {'scanstats': {'uphosts': '0', 'timestr': 'Wed Feb 14 17:37:24 2018', 'downhosts': '1', 'totalhosts': '1', 'elapsed': '3.26'}, 'scaninfo': {'tcp': {'services': '21-25', 'method': 'connect'}}, 'command_line': 'nmap -oX - -p 21-25 -sV 127.0.0.109'}, 'scan': {}})\n",
      "('127.0.0.11', {'nmap': {'scanstats': {'uphosts': '0', 'timestr': 'Wed Feb 14 17:37:28 2018', 'downhosts': '1', 'totalhosts': '1', 'elapsed': '3.26'}, 'scaninfo': {'tcp': {'services': '21-25', 'method': 'connect'}}, 'command_line': 'nmap -oX - -p 21-25 -sV 127.0.0.11'}, 'scan': {}})\n",
      "('127.0.0.110', {'nmap': {'scanstats': {'uphosts': '0', 'timestr': 'Wed Feb 14 17:37:31 2018', 'downhosts': '1', 'totalhosts': '1', 'elapsed': '3.26'}, 'scaninfo': {'tcp': {'services': '21-25', 'method': 'connect'}}, 'command_line': 'nmap -oX - -p 21-25 -sV 127.0.0.110'}, 'scan': {}})\n",
      "('127.0.0.111', {'nmap': {'scanstats': {'uphosts': '0', 'timestr': 'Wed Feb 14 17:37:34 2018', 'downhosts': '1', 'totalhosts': '1', 'elapsed': '3.26'}, 'scaninfo': {'tcp': {'services': '21-25', 'method': 'connect'}}, 'command_line': 'nmap -oX - -p 21-25 -sV 127.0.0.111'}, 'scan': {}})\n",
      "('127.0.0.112', {'nmap': {'scanstats': {'uphosts': '0', 'timestr': 'Wed Feb 14 17:37:38 2018', 'downhosts': '1', 'totalhosts': '1', 'elapsed': '3.25'}, 'scaninfo': {'tcp': {'services': '21-25', 'method': 'connect'}}, 'command_line': 'nmap -oX - -p 21-25 -sV 127.0.0.112'}, 'scan': {}})\n",
      "('127.0.0.113', {'nmap': {'scanstats': {'uphosts': '0', 'timestr': 'Wed Feb 14 17:37:41 2018', 'downhosts': '1', 'totalhosts': '1', 'elapsed': '3.25'}, 'scaninfo': {'tcp': {'services': '21-25', 'method': 'connect'}}, 'command_line': 'nmap -oX - -p 21-25 -sV 127.0.0.113'}, 'scan': {}})\n",
      "('127.0.0.114', {'nmap': {'scanstats': {'uphosts': '0', 'timestr': 'Wed Feb 14 17:37:44 2018', 'downhosts': '1', 'totalhosts': '1', 'elapsed': '3.26'}, 'scaninfo': {'tcp': {'services': '21-25', 'method': 'connect'}}, 'command_line': 'nmap -oX - -p 21-25 -sV 127.0.0.114'}, 'scan': {}})\n",
      "('127.0.0.115', {'nmap': {'scanstats': {'uphosts': '0', 'timestr': 'Wed Feb 14 17:37:48 2018', 'downhosts': '1', 'totalhosts': '1', 'elapsed': '3.26'}, 'scaninfo': {'tcp': {'services': '21-25', 'method': 'connect'}}, 'command_line': 'nmap -oX - -p 21-25 -sV 127.0.0.115'}, 'scan': {}})\n",
      "('127.0.0.116', {'nmap': {'scanstats': {'uphosts': '0', 'timestr': 'Wed Feb 14 17:37:51 2018', 'downhosts': '1', 'totalhosts': '1', 'elapsed': '3.26'}, 'scaninfo': {'tcp': {'services': '21-25', 'method': 'connect'}}, 'command_line': 'nmap -oX - -p 21-25 -sV 127.0.0.116'}, 'scan': {}})\n",
      "('127.0.0.117', {'nmap': {'scanstats': {'uphosts': '0', 'timestr': 'Wed Feb 14 17:37:54 2018', 'downhosts': '1', 'totalhosts': '1', 'elapsed': '3.26'}, 'scaninfo': {'tcp': {'services': '21-25', 'method': 'connect'}}, 'command_line': 'nmap -oX - -p 21-25 -sV 127.0.0.117'}, 'scan': {}})\n",
      "('127.0.0.118', {'nmap': {'scanstats': {'uphosts': '0', 'timestr': 'Wed Feb 14 17:37:57 2018', 'downhosts': '1', 'totalhosts': '1', 'elapsed': '3.26'}, 'scaninfo': {'tcp': {'services': '21-25', 'method': 'connect'}}, 'command_line': 'nmap -oX - -p 21-25 -sV 127.0.0.118'}, 'scan': {}})\n",
      "('127.0.0.119', {'nmap': {'scanstats': {'uphosts': '0', 'timestr': 'Wed Feb 14 17:38:01 2018', 'downhosts': '1', 'totalhosts': '1', 'elapsed': '3.26'}, 'scaninfo': {'tcp': {'services': '21-25', 'method': 'connect'}}, 'command_line': 'nmap -oX - -p 21-25 -sV 127.0.0.119'}, 'scan': {}})\n",
      "('127.0.0.12', {'nmap': {'scanstats': {'uphosts': '0', 'timestr': 'Wed Feb 14 17:38:04 2018', 'downhosts': '1', 'totalhosts': '1', 'elapsed': '3.26'}, 'scaninfo': {'tcp': {'services': '21-25', 'method': 'connect'}}, 'command_line': 'nmap -oX - -p 21-25 -sV 127.0.0.12'}, 'scan': {}})\n",
      "('127.0.0.120', {'nmap': {'scanstats': {'uphosts': '0', 'timestr': 'Wed Feb 14 17:38:07 2018', 'downhosts': '1', 'totalhosts': '1', 'elapsed': '3.26'}, 'scaninfo': {'tcp': {'services': '21-25', 'method': 'connect'}}, 'command_line': 'nmap -oX - -p 21-25 -sV 127.0.0.120'}, 'scan': {}})\n"
     ]
    },
    {
     "name": "stdout",
     "output_type": "stream",
     "text": [
      "('127.0.0.121', {'nmap': {'scanstats': {'uphosts': '0', 'timestr': 'Wed Feb 14 17:38:11 2018', 'downhosts': '1', 'totalhosts': '1', 'elapsed': '3.27'}, 'scaninfo': {'tcp': {'services': '21-25', 'method': 'connect'}}, 'command_line': 'nmap -oX - -p 21-25 -sV 127.0.0.121'}, 'scan': {}})\n",
      "('127.0.0.122', {'nmap': {'scanstats': {'uphosts': '0', 'timestr': 'Wed Feb 14 17:38:14 2018', 'downhosts': '1', 'totalhosts': '1', 'elapsed': '3.28'}, 'scaninfo': {'tcp': {'services': '21-25', 'method': 'connect'}}, 'command_line': 'nmap -oX - -p 21-25 -sV 127.0.0.122'}, 'scan': {}})\n",
      "('127.0.0.123', {'nmap': {'scanstats': {'uphosts': '0', 'timestr': 'Wed Feb 14 17:38:17 2018', 'downhosts': '1', 'totalhosts': '1', 'elapsed': '3.28'}, 'scaninfo': {'tcp': {'services': '21-25', 'method': 'connect'}}, 'command_line': 'nmap -oX - -p 21-25 -sV 127.0.0.123'}, 'scan': {}})\n",
      "('127.0.0.124', {'nmap': {'scanstats': {'uphosts': '0', 'timestr': 'Wed Feb 14 17:38:21 2018', 'downhosts': '1', 'totalhosts': '1', 'elapsed': '3.27'}, 'scaninfo': {'tcp': {'services': '21-25', 'method': 'connect'}}, 'command_line': 'nmap -oX - -p 21-25 -sV 127.0.0.124'}, 'scan': {}})\n",
      "('127.0.0.125', {'nmap': {'scanstats': {'uphosts': '0', 'timestr': 'Wed Feb 14 17:38:24 2018', 'downhosts': '1', 'totalhosts': '1', 'elapsed': '3.28'}, 'scaninfo': {'tcp': {'services': '21-25', 'method': 'connect'}}, 'command_line': 'nmap -oX - -p 21-25 -sV 127.0.0.125'}, 'scan': {}})\n",
      "('127.0.0.126', {'nmap': {'scanstats': {'uphosts': '0', 'timestr': 'Wed Feb 14 17:38:27 2018', 'downhosts': '1', 'totalhosts': '1', 'elapsed': '3.29'}, 'scaninfo': {'tcp': {'services': '21-25', 'method': 'connect'}}, 'command_line': 'nmap -oX - -p 21-25 -sV 127.0.0.126'}, 'scan': {}})\n",
      "('127.0.0.127', {'nmap': {'scanstats': {'uphosts': '0', 'timestr': 'Wed Feb 14 17:38:31 2018', 'downhosts': '1', 'totalhosts': '1', 'elapsed': '3.27'}, 'scaninfo': {'tcp': {'services': '21-25', 'method': 'connect'}}, 'command_line': 'nmap -oX - -p 21-25 -sV 127.0.0.127'}, 'scan': {}})\n",
      "('127.0.0.128', {'nmap': {'scanstats': {'uphosts': '0', 'timestr': 'Wed Feb 14 17:38:34 2018', 'downhosts': '1', 'totalhosts': '1', 'elapsed': '3.28'}, 'scaninfo': {'tcp': {'services': '21-25', 'method': 'connect'}}, 'command_line': 'nmap -oX - -p 21-25 -sV 127.0.0.128'}, 'scan': {}})\n",
      "('127.0.0.129', {'nmap': {'scanstats': {'uphosts': '0', 'timestr': 'Wed Feb 14 17:38:37 2018', 'downhosts': '1', 'totalhosts': '1', 'elapsed': '3.28'}, 'scaninfo': {'tcp': {'services': '21-25', 'method': 'connect'}}, 'command_line': 'nmap -oX - -p 21-25 -sV 127.0.0.129'}, 'scan': {}})\n",
      "('127.0.0.13', {'nmap': {'scanstats': {'uphosts': '0', 'timestr': 'Wed Feb 14 17:38:41 2018', 'downhosts': '1', 'totalhosts': '1', 'elapsed': '3.28'}, 'scaninfo': {'tcp': {'services': '21-25', 'method': 'connect'}}, 'command_line': 'nmap -oX - -p 21-25 -sV 127.0.0.13'}, 'scan': {}})\n",
      "('127.0.0.130', {'nmap': {'scanstats': {'uphosts': '0', 'timestr': 'Wed Feb 14 17:38:44 2018', 'downhosts': '1', 'totalhosts': '1', 'elapsed': '3.27'}, 'scaninfo': {'tcp': {'services': '21-25', 'method': 'connect'}}, 'command_line': 'nmap -oX - -p 21-25 -sV 127.0.0.130'}, 'scan': {}})\n",
      "('127.0.0.131', {'nmap': {'scanstats': {'uphosts': '0', 'timestr': 'Wed Feb 14 17:38:47 2018', 'downhosts': '1', 'totalhosts': '1', 'elapsed': '3.27'}, 'scaninfo': {'tcp': {'services': '21-25', 'method': 'connect'}}, 'command_line': 'nmap -oX - -p 21-25 -sV 127.0.0.131'}, 'scan': {}})\n",
      "('127.0.0.132', {'nmap': {'scanstats': {'uphosts': '0', 'timestr': 'Wed Feb 14 17:38:51 2018', 'downhosts': '1', 'totalhosts': '1', 'elapsed': '3.28'}, 'scaninfo': {'tcp': {'services': '21-25', 'method': 'connect'}}, 'command_line': 'nmap -oX - -p 21-25 -sV 127.0.0.132'}, 'scan': {}})\n",
      "('127.0.0.133', {'nmap': {'scanstats': {'uphosts': '0', 'timestr': 'Wed Feb 14 17:38:54 2018', 'downhosts': '1', 'totalhosts': '1', 'elapsed': '3.27'}, 'scaninfo': {'tcp': {'services': '21-25', 'method': 'connect'}}, 'command_line': 'nmap -oX - -p 21-25 -sV 127.0.0.133'}, 'scan': {}})\n",
      "('127.0.0.134', {'nmap': {'scanstats': {'uphosts': '0', 'timestr': 'Wed Feb 14 17:38:57 2018', 'downhosts': '1', 'totalhosts': '1', 'elapsed': '3.28'}, 'scaninfo': {'tcp': {'services': '21-25', 'method': 'connect'}}, 'command_line': 'nmap -oX - -p 21-25 -sV 127.0.0.134'}, 'scan': {}})\n",
      "('127.0.0.135', {'nmap': {'scanstats': {'uphosts': '0', 'timestr': 'Wed Feb 14 17:39:01 2018', 'downhosts': '1', 'totalhosts': '1', 'elapsed': '3.28'}, 'scaninfo': {'tcp': {'services': '21-25', 'method': 'connect'}}, 'command_line': 'nmap -oX - -p 21-25 -sV 127.0.0.135'}, 'scan': {}})\n",
      "('127.0.0.136', {'nmap': {'scanstats': {'uphosts': '0', 'timestr': 'Wed Feb 14 17:39:04 2018', 'downhosts': '1', 'totalhosts': '1', 'elapsed': '3.28'}, 'scaninfo': {'tcp': {'services': '21-25', 'method': 'connect'}}, 'command_line': 'nmap -oX - -p 21-25 -sV 127.0.0.136'}, 'scan': {}})\n",
      "('127.0.0.137', {'nmap': {'scanstats': {'uphosts': '0', 'timestr': 'Wed Feb 14 17:39:07 2018', 'downhosts': '1', 'totalhosts': '1', 'elapsed': '3.27'}, 'scaninfo': {'tcp': {'services': '21-25', 'method': 'connect'}}, 'command_line': 'nmap -oX - -p 21-25 -sV 127.0.0.137'}, 'scan': {}})\n",
      "('127.0.0.138', {'nmap': {'scanstats': {'uphosts': '0', 'timestr': 'Wed Feb 14 17:39:11 2018', 'downhosts': '1', 'totalhosts': '1', 'elapsed': '3.27'}, 'scaninfo': {'tcp': {'services': '21-25', 'method': 'connect'}}, 'command_line': 'nmap -oX - -p 21-25 -sV 127.0.0.138'}, 'scan': {}})\n",
      "('127.0.0.139', {'nmap': {'scanstats': {'uphosts': '0', 'timestr': 'Wed Feb 14 17:39:14 2018', 'downhosts': '1', 'totalhosts': '1', 'elapsed': '3.27'}, 'scaninfo': {'tcp': {'services': '21-25', 'method': 'connect'}}, 'command_line': 'nmap -oX - -p 21-25 -sV 127.0.0.139'}, 'scan': {}})\n",
      "('127.0.0.14', {'nmap': {'scanstats': {'uphosts': '0', 'timestr': 'Wed Feb 14 17:39:17 2018', 'downhosts': '1', 'totalhosts': '1', 'elapsed': '3.26'}, 'scaninfo': {'tcp': {'services': '21-25', 'method': 'connect'}}, 'command_line': 'nmap -oX - -p 21-25 -sV 127.0.0.14'}, 'scan': {}})\n",
      "('127.0.0.140', {'nmap': {'scanstats': {'uphosts': '0', 'timestr': 'Wed Feb 14 17:39:20 2018', 'downhosts': '1', 'totalhosts': '1', 'elapsed': '3.28'}, 'scaninfo': {'tcp': {'services': '21-25', 'method': 'connect'}}, 'command_line': 'nmap -oX - -p 21-25 -sV 127.0.0.140'}, 'scan': {}})\n",
      "('127.0.0.141', {'nmap': {'scanstats': {'uphosts': '0', 'timestr': 'Wed Feb 14 17:39:24 2018', 'downhosts': '1', 'totalhosts': '1', 'elapsed': '3.28'}, 'scaninfo': {'tcp': {'services': '21-25', 'method': 'connect'}}, 'command_line': 'nmap -oX - -p 21-25 -sV 127.0.0.141'}, 'scan': {}})\n",
      "('127.0.0.142', {'nmap': {'scanstats': {'uphosts': '0', 'timestr': 'Wed Feb 14 17:39:27 2018', 'downhosts': '1', 'totalhosts': '1', 'elapsed': '3.27'}, 'scaninfo': {'tcp': {'services': '21-25', 'method': 'connect'}}, 'command_line': 'nmap -oX - -p 21-25 -sV 127.0.0.142'}, 'scan': {}})\n",
      "('127.0.0.143', {'nmap': {'scanstats': {'uphosts': '0', 'timestr': 'Wed Feb 14 17:39:30 2018', 'downhosts': '1', 'totalhosts': '1', 'elapsed': '3.26'}, 'scaninfo': {'tcp': {'services': '21-25', 'method': 'connect'}}, 'command_line': 'nmap -oX - -p 21-25 -sV 127.0.0.143'}, 'scan': {}})\n",
      "('127.0.0.144', {'nmap': {'scanstats': {'uphosts': '0', 'timestr': 'Wed Feb 14 17:39:34 2018', 'downhosts': '1', 'totalhosts': '1', 'elapsed': '3.27'}, 'scaninfo': {'tcp': {'services': '21-25', 'method': 'connect'}}, 'command_line': 'nmap -oX - -p 21-25 -sV 127.0.0.144'}, 'scan': {}})\n",
      "('127.0.0.145', {'nmap': {'scanstats': {'uphosts': '0', 'timestr': 'Wed Feb 14 17:39:37 2018', 'downhosts': '1', 'totalhosts': '1', 'elapsed': '3.27'}, 'scaninfo': {'tcp': {'services': '21-25', 'method': 'connect'}}, 'command_line': 'nmap -oX - -p 21-25 -sV 127.0.0.145'}, 'scan': {}})\n",
      "('127.0.0.146', {'nmap': {'scanstats': {'uphosts': '0', 'timestr': 'Wed Feb 14 17:39:40 2018', 'downhosts': '1', 'totalhosts': '1', 'elapsed': '3.27'}, 'scaninfo': {'tcp': {'services': '21-25', 'method': 'connect'}}, 'command_line': 'nmap -oX - -p 21-25 -sV 127.0.0.146'}, 'scan': {}})\n",
      "('127.0.0.147', {'nmap': {'scanstats': {'uphosts': '0', 'timestr': 'Wed Feb 14 17:39:44 2018', 'downhosts': '1', 'totalhosts': '1', 'elapsed': '3.30'}, 'scaninfo': {'tcp': {'services': '21-25', 'method': 'connect'}}, 'command_line': 'nmap -oX - -p 21-25 -sV 127.0.0.147'}, 'scan': {}})\n"
     ]
    },
    {
     "name": "stdout",
     "output_type": "stream",
     "text": [
      "('127.0.0.148', {'nmap': {'scanstats': {'uphosts': '0', 'timestr': 'Wed Feb 14 17:39:47 2018', 'downhosts': '1', 'totalhosts': '1', 'elapsed': '3.27'}, 'scaninfo': {'tcp': {'services': '21-25', 'method': 'connect'}}, 'command_line': 'nmap -oX - -p 21-25 -sV 127.0.0.148'}, 'scan': {}})\n",
      "('127.0.0.149', {'nmap': {'scanstats': {'uphosts': '0', 'timestr': 'Wed Feb 14 17:39:50 2018', 'downhosts': '1', 'totalhosts': '1', 'elapsed': '3.28'}, 'scaninfo': {'tcp': {'services': '21-25', 'method': 'connect'}}, 'command_line': 'nmap -oX - -p 21-25 -sV 127.0.0.149'}, 'scan': {}})\n",
      "('127.0.0.15', {'nmap': {'scanstats': {'uphosts': '0', 'timestr': 'Wed Feb 14 17:39:54 2018', 'downhosts': '1', 'totalhosts': '1', 'elapsed': '3.26'}, 'scaninfo': {'tcp': {'services': '21-25', 'method': 'connect'}}, 'command_line': 'nmap -oX - -p 21-25 -sV 127.0.0.15'}, 'scan': {}})\n",
      "('127.0.0.150', {'nmap': {'scanstats': {'uphosts': '0', 'timestr': 'Wed Feb 14 17:39:57 2018', 'downhosts': '1', 'totalhosts': '1', 'elapsed': '3.28'}, 'scaninfo': {'tcp': {'services': '21-25', 'method': 'connect'}}, 'command_line': 'nmap -oX - -p 21-25 -sV 127.0.0.150'}, 'scan': {}})\n",
      "('127.0.0.151', {'nmap': {'scanstats': {'uphosts': '0', 'timestr': 'Wed Feb 14 17:40:00 2018', 'downhosts': '1', 'totalhosts': '1', 'elapsed': '3.26'}, 'scaninfo': {'tcp': {'services': '21-25', 'method': 'connect'}}, 'command_line': 'nmap -oX - -p 21-25 -sV 127.0.0.151'}, 'scan': {}})\n",
      "('127.0.0.152', {'nmap': {'scanstats': {'uphosts': '0', 'timestr': 'Wed Feb 14 17:40:04 2018', 'downhosts': '1', 'totalhosts': '1', 'elapsed': '3.28'}, 'scaninfo': {'tcp': {'services': '21-25', 'method': 'connect'}}, 'command_line': 'nmap -oX - -p 21-25 -sV 127.0.0.152'}, 'scan': {}})\n",
      "('127.0.0.153', {'nmap': {'scanstats': {'uphosts': '0', 'timestr': 'Wed Feb 14 17:40:07 2018', 'downhosts': '1', 'totalhosts': '1', 'elapsed': '3.27'}, 'scaninfo': {'tcp': {'services': '21-25', 'method': 'connect'}}, 'command_line': 'nmap -oX - -p 21-25 -sV 127.0.0.153'}, 'scan': {}})\n",
      "('127.0.0.154', {'nmap': {'scanstats': {'uphosts': '0', 'timestr': 'Wed Feb 14 17:40:10 2018', 'downhosts': '1', 'totalhosts': '1', 'elapsed': '3.29'}, 'scaninfo': {'tcp': {'services': '21-25', 'method': 'connect'}}, 'command_line': 'nmap -oX - -p 21-25 -sV 127.0.0.154'}, 'scan': {}})\n",
      "('127.0.0.155', {'nmap': {'scanstats': {'uphosts': '0', 'timestr': 'Wed Feb 14 17:40:14 2018', 'downhosts': '1', 'totalhosts': '1', 'elapsed': '3.29'}, 'scaninfo': {'tcp': {'services': '21-25', 'method': 'connect'}}, 'command_line': 'nmap -oX - -p 21-25 -sV 127.0.0.155'}, 'scan': {}})\n",
      "('127.0.0.156', {'nmap': {'scanstats': {'uphosts': '0', 'timestr': 'Wed Feb 14 17:40:17 2018', 'downhosts': '1', 'totalhosts': '1', 'elapsed': '3.28'}, 'scaninfo': {'tcp': {'services': '21-25', 'method': 'connect'}}, 'command_line': 'nmap -oX - -p 21-25 -sV 127.0.0.156'}, 'scan': {}})\n",
      "('127.0.0.157', {'nmap': {'scanstats': {'uphosts': '0', 'timestr': 'Wed Feb 14 17:40:20 2018', 'downhosts': '1', 'totalhosts': '1', 'elapsed': '3.30'}, 'scaninfo': {'tcp': {'services': '21-25', 'method': 'connect'}}, 'command_line': 'nmap -oX - -p 21-25 -sV 127.0.0.157'}, 'scan': {}})\n",
      "('127.0.0.158', {'nmap': {'scanstats': {'uphosts': '0', 'timestr': 'Wed Feb 14 17:40:24 2018', 'downhosts': '1', 'totalhosts': '1', 'elapsed': '3.28'}, 'scaninfo': {'tcp': {'services': '21-25', 'method': 'connect'}}, 'command_line': 'nmap -oX - -p 21-25 -sV 127.0.0.158'}, 'scan': {}})\n",
      "('127.0.0.159', {'nmap': {'scanstats': {'uphosts': '0', 'timestr': 'Wed Feb 14 17:40:27 2018', 'downhosts': '1', 'totalhosts': '1', 'elapsed': '3.28'}, 'scaninfo': {'tcp': {'services': '21-25', 'method': 'connect'}}, 'command_line': 'nmap -oX - -p 21-25 -sV 127.0.0.159'}, 'scan': {}})\n",
      "('127.0.0.16', {'nmap': {'scanstats': {'uphosts': '0', 'timestr': 'Wed Feb 14 17:40:30 2018', 'downhosts': '1', 'totalhosts': '1', 'elapsed': '3.27'}, 'scaninfo': {'tcp': {'services': '21-25', 'method': 'connect'}}, 'command_line': 'nmap -oX - -p 21-25 -sV 127.0.0.16'}, 'scan': {}})\n",
      "('127.0.0.160', {'nmap': {'scanstats': {'uphosts': '0', 'timestr': 'Wed Feb 14 17:40:34 2018', 'downhosts': '1', 'totalhosts': '1', 'elapsed': '3.28'}, 'scaninfo': {'tcp': {'services': '21-25', 'method': 'connect'}}, 'command_line': 'nmap -oX - -p 21-25 -sV 127.0.0.160'}, 'scan': {}})\n",
      "('127.0.0.161', {'nmap': {'scanstats': {'uphosts': '0', 'timestr': 'Wed Feb 14 17:40:37 2018', 'downhosts': '1', 'totalhosts': '1', 'elapsed': '3.25'}, 'scaninfo': {'tcp': {'services': '21-25', 'method': 'connect'}}, 'command_line': 'nmap -oX - -p 21-25 -sV 127.0.0.161'}, 'scan': {}})\n",
      "('127.0.0.162', {'nmap': {'scanstats': {'uphosts': '0', 'timestr': 'Wed Feb 14 17:40:40 2018', 'downhosts': '1', 'totalhosts': '1', 'elapsed': '3.27'}, 'scaninfo': {'tcp': {'services': '21-25', 'method': 'connect'}}, 'command_line': 'nmap -oX - -p 21-25 -sV 127.0.0.162'}, 'scan': {}})\n",
      "('127.0.0.163', {'nmap': {'scanstats': {'uphosts': '0', 'timestr': 'Wed Feb 14 17:40:44 2018', 'downhosts': '1', 'totalhosts': '1', 'elapsed': '3.28'}, 'scaninfo': {'tcp': {'services': '21-25', 'method': 'connect'}}, 'command_line': 'nmap -oX - -p 21-25 -sV 127.0.0.163'}, 'scan': {}})\n",
      "('127.0.0.164', {'nmap': {'scanstats': {'uphosts': '0', 'timestr': 'Wed Feb 14 17:40:47 2018', 'downhosts': '1', 'totalhosts': '1', 'elapsed': '3.27'}, 'scaninfo': {'tcp': {'services': '21-25', 'method': 'connect'}}, 'command_line': 'nmap -oX - -p 21-25 -sV 127.0.0.164'}, 'scan': {}})\n",
      "('127.0.0.165', {'nmap': {'scanstats': {'uphosts': '0', 'timestr': 'Wed Feb 14 17:40:50 2018', 'downhosts': '1', 'totalhosts': '1', 'elapsed': '3.26'}, 'scaninfo': {'tcp': {'services': '21-25', 'method': 'connect'}}, 'command_line': 'nmap -oX - -p 21-25 -sV 127.0.0.165'}, 'scan': {}})\n",
      "('127.0.0.166', {'nmap': {'scanstats': {'uphosts': '0', 'timestr': 'Wed Feb 14 17:40:54 2018', 'downhosts': '1', 'totalhosts': '1', 'elapsed': '3.27'}, 'scaninfo': {'tcp': {'services': '21-25', 'method': 'connect'}}, 'command_line': 'nmap -oX - -p 21-25 -sV 127.0.0.166'}, 'scan': {}})\n",
      "('127.0.0.167', {'nmap': {'scanstats': {'uphosts': '0', 'timestr': 'Wed Feb 14 17:40:57 2018', 'downhosts': '1', 'totalhosts': '1', 'elapsed': '3.27'}, 'scaninfo': {'tcp': {'services': '21-25', 'method': 'connect'}}, 'command_line': 'nmap -oX - -p 21-25 -sV 127.0.0.167'}, 'scan': {}})\n",
      "('127.0.0.168', {'nmap': {'scanstats': {'uphosts': '0', 'timestr': 'Wed Feb 14 17:41:00 2018', 'downhosts': '1', 'totalhosts': '1', 'elapsed': '3.27'}, 'scaninfo': {'tcp': {'services': '21-25', 'method': 'connect'}}, 'command_line': 'nmap -oX - -p 21-25 -sV 127.0.0.168'}, 'scan': {}})\n",
      "('127.0.0.169', {'nmap': {'scanstats': {'uphosts': '0', 'timestr': 'Wed Feb 14 17:41:03 2018', 'downhosts': '1', 'totalhosts': '1', 'elapsed': '3.26'}, 'scaninfo': {'tcp': {'services': '21-25', 'method': 'connect'}}, 'command_line': 'nmap -oX - -p 21-25 -sV 127.0.0.169'}, 'scan': {}})\n",
      "('127.0.0.17', {'nmap': {'scanstats': {'uphosts': '0', 'timestr': 'Wed Feb 14 17:41:07 2018', 'downhosts': '1', 'totalhosts': '1', 'elapsed': '3.28'}, 'scaninfo': {'tcp': {'services': '21-25', 'method': 'connect'}}, 'command_line': 'nmap -oX - -p 21-25 -sV 127.0.0.17'}, 'scan': {}})\n",
      "('127.0.0.170', {'nmap': {'scanstats': {'uphosts': '0', 'timestr': 'Wed Feb 14 17:41:10 2018', 'downhosts': '1', 'totalhosts': '1', 'elapsed': '3.29'}, 'scaninfo': {'tcp': {'services': '21-25', 'method': 'connect'}}, 'command_line': 'nmap -oX - -p 21-25 -sV 127.0.0.170'}, 'scan': {}})\n",
      "('127.0.0.171', {'nmap': {'scanstats': {'uphosts': '0', 'timestr': 'Wed Feb 14 17:41:13 2018', 'downhosts': '1', 'totalhosts': '1', 'elapsed': '3.28'}, 'scaninfo': {'tcp': {'services': '21-25', 'method': 'connect'}}, 'command_line': 'nmap -oX - -p 21-25 -sV 127.0.0.171'}, 'scan': {}})\n",
      "('127.0.0.172', {'nmap': {'scanstats': {'uphosts': '0', 'timestr': 'Wed Feb 14 17:41:17 2018', 'downhosts': '1', 'totalhosts': '1', 'elapsed': '3.28'}, 'scaninfo': {'tcp': {'services': '21-25', 'method': 'connect'}}, 'command_line': 'nmap -oX - -p 21-25 -sV 127.0.0.172'}, 'scan': {}})\n",
      "('127.0.0.173', {'nmap': {'scanstats': {'uphosts': '0', 'timestr': 'Wed Feb 14 17:41:20 2018', 'downhosts': '1', 'totalhosts': '1', 'elapsed': '3.27'}, 'scaninfo': {'tcp': {'services': '21-25', 'method': 'connect'}}, 'command_line': 'nmap -oX - -p 21-25 -sV 127.0.0.173'}, 'scan': {}})\n"
     ]
    },
    {
     "name": "stdout",
     "output_type": "stream",
     "text": [
      "('127.0.0.174', {'nmap': {'scanstats': {'uphosts': '0', 'timestr': 'Wed Feb 14 17:41:23 2018', 'downhosts': '1', 'totalhosts': '1', 'elapsed': '3.28'}, 'scaninfo': {'tcp': {'services': '21-25', 'method': 'connect'}}, 'command_line': 'nmap -oX - -p 21-25 -sV 127.0.0.174'}, 'scan': {}})\n",
      "('127.0.0.175', {'nmap': {'scanstats': {'uphosts': '0', 'timestr': 'Wed Feb 14 17:41:27 2018', 'downhosts': '1', 'totalhosts': '1', 'elapsed': '3.28'}, 'scaninfo': {'tcp': {'services': '21-25', 'method': 'connect'}}, 'command_line': 'nmap -oX - -p 21-25 -sV 127.0.0.175'}, 'scan': {}})\n",
      "('127.0.0.176', {'nmap': {'scanstats': {'uphosts': '0', 'timestr': 'Wed Feb 14 17:41:30 2018', 'downhosts': '1', 'totalhosts': '1', 'elapsed': '3.27'}, 'scaninfo': {'tcp': {'services': '21-25', 'method': 'connect'}}, 'command_line': 'nmap -oX - -p 21-25 -sV 127.0.0.176'}, 'scan': {}})\n",
      "('127.0.0.177', {'nmap': {'scanstats': {'uphosts': '0', 'timestr': 'Wed Feb 14 17:41:33 2018', 'downhosts': '1', 'totalhosts': '1', 'elapsed': '3.27'}, 'scaninfo': {'tcp': {'services': '21-25', 'method': 'connect'}}, 'command_line': 'nmap -oX - -p 21-25 -sV 127.0.0.177'}, 'scan': {}})\n",
      "('127.0.0.178', {'nmap': {'scanstats': {'uphosts': '0', 'timestr': 'Wed Feb 14 17:41:37 2018', 'downhosts': '1', 'totalhosts': '1', 'elapsed': '3.28'}, 'scaninfo': {'tcp': {'services': '21-25', 'method': 'connect'}}, 'command_line': 'nmap -oX - -p 21-25 -sV 127.0.0.178'}, 'scan': {}})\n",
      "('127.0.0.179', {'nmap': {'scanstats': {'uphosts': '0', 'timestr': 'Wed Feb 14 17:41:40 2018', 'downhosts': '1', 'totalhosts': '1', 'elapsed': '3.26'}, 'scaninfo': {'tcp': {'services': '21-25', 'method': 'connect'}}, 'command_line': 'nmap -oX - -p 21-25 -sV 127.0.0.179'}, 'scan': {}})\n",
      "('127.0.0.18', {'nmap': {'scanstats': {'uphosts': '0', 'timestr': 'Wed Feb 14 17:41:43 2018', 'downhosts': '1', 'totalhosts': '1', 'elapsed': '3.27'}, 'scaninfo': {'tcp': {'services': '21-25', 'method': 'connect'}}, 'command_line': 'nmap -oX - -p 21-25 -sV 127.0.0.18'}, 'scan': {}})\n",
      "('127.0.0.180', {'nmap': {'scanstats': {'uphosts': '0', 'timestr': 'Wed Feb 14 17:41:47 2018', 'downhosts': '1', 'totalhosts': '1', 'elapsed': '3.28'}, 'scaninfo': {'tcp': {'services': '21-25', 'method': 'connect'}}, 'command_line': 'nmap -oX - -p 21-25 -sV 127.0.0.180'}, 'scan': {}})\n",
      "('127.0.0.181', {'nmap': {'scanstats': {'uphosts': '0', 'timestr': 'Wed Feb 14 17:41:50 2018', 'downhosts': '1', 'totalhosts': '1', 'elapsed': '3.28'}, 'scaninfo': {'tcp': {'services': '21-25', 'method': 'connect'}}, 'command_line': 'nmap -oX - -p 21-25 -sV 127.0.0.181'}, 'scan': {}})\n",
      "('127.0.0.182', {'nmap': {'scanstats': {'uphosts': '0', 'timestr': 'Wed Feb 14 17:41:53 2018', 'downhosts': '1', 'totalhosts': '1', 'elapsed': '3.26'}, 'scaninfo': {'tcp': {'services': '21-25', 'method': 'connect'}}, 'command_line': 'nmap -oX - -p 21-25 -sV 127.0.0.182'}, 'scan': {}})\n",
      "('127.0.0.183', {'nmap': {'scanstats': {'uphosts': '0', 'timestr': 'Wed Feb 14 17:41:57 2018', 'downhosts': '1', 'totalhosts': '1', 'elapsed': '3.28'}, 'scaninfo': {'tcp': {'services': '21-25', 'method': 'connect'}}, 'command_line': 'nmap -oX - -p 21-25 -sV 127.0.0.183'}, 'scan': {}})\n",
      "('127.0.0.184', {'nmap': {'scanstats': {'uphosts': '0', 'timestr': 'Wed Feb 14 17:42:00 2018', 'downhosts': '1', 'totalhosts': '1', 'elapsed': '3.26'}, 'scaninfo': {'tcp': {'services': '21-25', 'method': 'connect'}}, 'command_line': 'nmap -oX - -p 21-25 -sV 127.0.0.184'}, 'scan': {}})\n",
      "('127.0.0.185', {'nmap': {'scanstats': {'uphosts': '0', 'timestr': 'Wed Feb 14 17:42:03 2018', 'downhosts': '1', 'totalhosts': '1', 'elapsed': '3.28'}, 'scaninfo': {'tcp': {'services': '21-25', 'method': 'connect'}}, 'command_line': 'nmap -oX - -p 21-25 -sV 127.0.0.185'}, 'scan': {}})\n",
      "('127.0.0.186', {'nmap': {'scanstats': {'uphosts': '0', 'timestr': 'Wed Feb 14 17:42:07 2018', 'downhosts': '1', 'totalhosts': '1', 'elapsed': '3.26'}, 'scaninfo': {'tcp': {'services': '21-25', 'method': 'connect'}}, 'command_line': 'nmap -oX - -p 21-25 -sV 127.0.0.186'}, 'scan': {}})\n",
      "('127.0.0.187', {'nmap': {'scanstats': {'uphosts': '0', 'timestr': 'Wed Feb 14 17:42:10 2018', 'downhosts': '1', 'totalhosts': '1', 'elapsed': '3.27'}, 'scaninfo': {'tcp': {'services': '21-25', 'method': 'connect'}}, 'command_line': 'nmap -oX - -p 21-25 -sV 127.0.0.187'}, 'scan': {}})\n",
      "('127.0.0.188', {'nmap': {'scanstats': {'uphosts': '0', 'timestr': 'Wed Feb 14 17:42:13 2018', 'downhosts': '1', 'totalhosts': '1', 'elapsed': '3.28'}, 'scaninfo': {'tcp': {'services': '21-25', 'method': 'connect'}}, 'command_line': 'nmap -oX - -p 21-25 -sV 127.0.0.188'}, 'scan': {}})\n",
      "('127.0.0.189', {'nmap': {'scanstats': {'uphosts': '0', 'timestr': 'Wed Feb 14 17:42:16 2018', 'downhosts': '1', 'totalhosts': '1', 'elapsed': '3.27'}, 'scaninfo': {'tcp': {'services': '21-25', 'method': 'connect'}}, 'command_line': 'nmap -oX - -p 21-25 -sV 127.0.0.189'}, 'scan': {}})\n",
      "('127.0.0.19', {'nmap': {'scanstats': {'uphosts': '0', 'timestr': 'Wed Feb 14 17:42:20 2018', 'downhosts': '1', 'totalhosts': '1', 'elapsed': '3.26'}, 'scaninfo': {'tcp': {'services': '21-25', 'method': 'connect'}}, 'command_line': 'nmap -oX - -p 21-25 -sV 127.0.0.19'}, 'scan': {}})\n",
      "('127.0.0.190', {'nmap': {'scanstats': {'uphosts': '0', 'timestr': 'Wed Feb 14 17:42:23 2018', 'downhosts': '1', 'totalhosts': '1', 'elapsed': '3.27'}, 'scaninfo': {'tcp': {'services': '21-25', 'method': 'connect'}}, 'command_line': 'nmap -oX - -p 21-25 -sV 127.0.0.190'}, 'scan': {}})\n",
      "('127.0.0.191', {'nmap': {'scanstats': {'uphosts': '0', 'timestr': 'Wed Feb 14 17:42:26 2018', 'downhosts': '1', 'totalhosts': '1', 'elapsed': '3.28'}, 'scaninfo': {'tcp': {'services': '21-25', 'method': 'connect'}}, 'command_line': 'nmap -oX - -p 21-25 -sV 127.0.0.191'}, 'scan': {}})\n",
      "('127.0.0.192', {'nmap': {'scanstats': {'uphosts': '0', 'timestr': 'Wed Feb 14 17:42:30 2018', 'downhosts': '1', 'totalhosts': '1', 'elapsed': '3.27'}, 'scaninfo': {'tcp': {'services': '21-25', 'method': 'connect'}}, 'command_line': 'nmap -oX - -p 21-25 -sV 127.0.0.192'}, 'scan': {}})\n",
      "('127.0.0.193', {'nmap': {'scanstats': {'uphosts': '0', 'timestr': 'Wed Feb 14 17:42:33 2018', 'downhosts': '1', 'totalhosts': '1', 'elapsed': '3.27'}, 'scaninfo': {'tcp': {'services': '21-25', 'method': 'connect'}}, 'command_line': 'nmap -oX - -p 21-25 -sV 127.0.0.193'}, 'scan': {}})\n",
      "('127.0.0.194', {'nmap': {'scanstats': {'uphosts': '0', 'timestr': 'Wed Feb 14 17:42:36 2018', 'downhosts': '1', 'totalhosts': '1', 'elapsed': '3.29'}, 'scaninfo': {'tcp': {'services': '21-25', 'method': 'connect'}}, 'command_line': 'nmap -oX - -p 21-25 -sV 127.0.0.194'}, 'scan': {}})\n",
      "('127.0.0.195', {'nmap': {'scanstats': {'uphosts': '0', 'timestr': 'Wed Feb 14 17:42:40 2018', 'downhosts': '1', 'totalhosts': '1', 'elapsed': '3.28'}, 'scaninfo': {'tcp': {'services': '21-25', 'method': 'connect'}}, 'command_line': 'nmap -oX - -p 21-25 -sV 127.0.0.195'}, 'scan': {}})\n",
      "('127.0.0.196', {'nmap': {'scanstats': {'uphosts': '0', 'timestr': 'Wed Feb 14 17:42:43 2018', 'downhosts': '1', 'totalhosts': '1', 'elapsed': '3.28'}, 'scaninfo': {'tcp': {'services': '21-25', 'method': 'connect'}}, 'command_line': 'nmap -oX - -p 21-25 -sV 127.0.0.196'}, 'scan': {}})\n",
      "('127.0.0.197', {'nmap': {'scanstats': {'uphosts': '0', 'timestr': 'Wed Feb 14 17:42:46 2018', 'downhosts': '1', 'totalhosts': '1', 'elapsed': '3.27'}, 'scaninfo': {'tcp': {'services': '21-25', 'method': 'connect'}}, 'command_line': 'nmap -oX - -p 21-25 -sV 127.0.0.197'}, 'scan': {}})\n",
      "('127.0.0.198', {'nmap': {'scanstats': {'uphosts': '0', 'timestr': 'Wed Feb 14 17:42:50 2018', 'downhosts': '1', 'totalhosts': '1', 'elapsed': '3.28'}, 'scaninfo': {'tcp': {'services': '21-25', 'method': 'connect'}}, 'command_line': 'nmap -oX - -p 21-25 -sV 127.0.0.198'}, 'scan': {}})\n",
      "('127.0.0.199', {'nmap': {'scanstats': {'uphosts': '0', 'timestr': 'Wed Feb 14 17:42:53 2018', 'downhosts': '1', 'totalhosts': '1', 'elapsed': '3.27'}, 'scaninfo': {'tcp': {'services': '21-25', 'method': 'connect'}}, 'command_line': 'nmap -oX - -p 21-25 -sV 127.0.0.199'}, 'scan': {}})\n",
      "('127.0.0.2', {'nmap': {'scanstats': {'uphosts': '0', 'timestr': 'Wed Feb 14 17:42:56 2018', 'downhosts': '1', 'totalhosts': '1', 'elapsed': '3.27'}, 'scaninfo': {'tcp': {'services': '21-25', 'method': 'connect'}}, 'command_line': 'nmap -oX - -p 21-25 -sV 127.0.0.2'}, 'scan': {}})\n"
     ]
    },
    {
     "name": "stdout",
     "output_type": "stream",
     "text": [
      "('127.0.0.20', {'nmap': {'scanstats': {'uphosts': '0', 'timestr': 'Wed Feb 14 17:43:00 2018', 'downhosts': '1', 'totalhosts': '1', 'elapsed': '3.28'}, 'scaninfo': {'tcp': {'services': '21-25', 'method': 'connect'}}, 'command_line': 'nmap -oX - -p 21-25 -sV 127.0.0.20'}, 'scan': {}})\n",
      "('127.0.0.200', {'nmap': {'scanstats': {'uphosts': '0', 'timestr': 'Wed Feb 14 17:43:03 2018', 'downhosts': '1', 'totalhosts': '1', 'elapsed': '3.26'}, 'scaninfo': {'tcp': {'services': '21-25', 'method': 'connect'}}, 'command_line': 'nmap -oX - -p 21-25 -sV 127.0.0.200'}, 'scan': {}})\n",
      "('127.0.0.201', {'nmap': {'scanstats': {'uphosts': '0', 'timestr': 'Wed Feb 14 17:43:06 2018', 'downhosts': '1', 'totalhosts': '1', 'elapsed': '3.27'}, 'scaninfo': {'tcp': {'services': '21-25', 'method': 'connect'}}, 'command_line': 'nmap -oX - -p 21-25 -sV 127.0.0.201'}, 'scan': {}})\n",
      "('127.0.0.202', {'nmap': {'scanstats': {'uphosts': '0', 'timestr': 'Wed Feb 14 17:43:10 2018', 'downhosts': '1', 'totalhosts': '1', 'elapsed': '3.28'}, 'scaninfo': {'tcp': {'services': '21-25', 'method': 'connect'}}, 'command_line': 'nmap -oX - -p 21-25 -sV 127.0.0.202'}, 'scan': {}})\n",
      "('127.0.0.203', {'nmap': {'scanstats': {'uphosts': '0', 'timestr': 'Wed Feb 14 17:43:13 2018', 'downhosts': '1', 'totalhosts': '1', 'elapsed': '3.26'}, 'scaninfo': {'tcp': {'services': '21-25', 'method': 'connect'}}, 'command_line': 'nmap -oX - -p 21-25 -sV 127.0.0.203'}, 'scan': {}})\n",
      "('127.0.0.204', {'nmap': {'scanstats': {'uphosts': '0', 'timestr': 'Wed Feb 14 17:43:16 2018', 'downhosts': '1', 'totalhosts': '1', 'elapsed': '3.27'}, 'scaninfo': {'tcp': {'services': '21-25', 'method': 'connect'}}, 'command_line': 'nmap -oX - -p 21-25 -sV 127.0.0.204'}, 'scan': {}})\n",
      "('127.0.0.205', {'nmap': {'scanstats': {'uphosts': '0', 'timestr': 'Wed Feb 14 17:43:20 2018', 'downhosts': '1', 'totalhosts': '1', 'elapsed': '3.27'}, 'scaninfo': {'tcp': {'services': '21-25', 'method': 'connect'}}, 'command_line': 'nmap -oX - -p 21-25 -sV 127.0.0.205'}, 'scan': {}})\n",
      "('127.0.0.206', {'nmap': {'scanstats': {'uphosts': '0', 'timestr': 'Wed Feb 14 17:43:23 2018', 'downhosts': '1', 'totalhosts': '1', 'elapsed': '3.27'}, 'scaninfo': {'tcp': {'services': '21-25', 'method': 'connect'}}, 'command_line': 'nmap -oX - -p 21-25 -sV 127.0.0.206'}, 'scan': {}})\n",
      "('127.0.0.207', {'nmap': {'scanstats': {'uphosts': '0', 'timestr': 'Wed Feb 14 17:43:26 2018', 'downhosts': '1', 'totalhosts': '1', 'elapsed': '3.28'}, 'scaninfo': {'tcp': {'services': '21-25', 'method': 'connect'}}, 'command_line': 'nmap -oX - -p 21-25 -sV 127.0.0.207'}, 'scan': {}})\n",
      "('127.0.0.208', {'nmap': {'scanstats': {'uphosts': '0', 'timestr': 'Wed Feb 14 17:43:30 2018', 'downhosts': '1', 'totalhosts': '1', 'elapsed': '3.27'}, 'scaninfo': {'tcp': {'services': '21-25', 'method': 'connect'}}, 'command_line': 'nmap -oX - -p 21-25 -sV 127.0.0.208'}, 'scan': {}})\n",
      "('127.0.0.209', {'nmap': {'scanstats': {'uphosts': '0', 'timestr': 'Wed Feb 14 17:43:33 2018', 'downhosts': '1', 'totalhosts': '1', 'elapsed': '3.26'}, 'scaninfo': {'tcp': {'services': '21-25', 'method': 'connect'}}, 'command_line': 'nmap -oX - -p 21-25 -sV 127.0.0.209'}, 'scan': {}})\n",
      "('127.0.0.21', {'nmap': {'scanstats': {'uphosts': '0', 'timestr': 'Wed Feb 14 17:43:36 2018', 'downhosts': '1', 'totalhosts': '1', 'elapsed': '3.27'}, 'scaninfo': {'tcp': {'services': '21-25', 'method': 'connect'}}, 'command_line': 'nmap -oX - -p 21-25 -sV 127.0.0.21'}, 'scan': {}})\n",
      "('127.0.0.210', {'nmap': {'scanstats': {'uphosts': '0', 'timestr': 'Wed Feb 14 17:43:39 2018', 'downhosts': '1', 'totalhosts': '1', 'elapsed': '3.28'}, 'scaninfo': {'tcp': {'services': '21-25', 'method': 'connect'}}, 'command_line': 'nmap -oX - -p 21-25 -sV 127.0.0.210'}, 'scan': {}})\n",
      "('127.0.0.211', {'nmap': {'scanstats': {'uphosts': '0', 'timestr': 'Wed Feb 14 17:43:43 2018', 'downhosts': '1', 'totalhosts': '1', 'elapsed': '3.28'}, 'scaninfo': {'tcp': {'services': '21-25', 'method': 'connect'}}, 'command_line': 'nmap -oX - -p 21-25 -sV 127.0.0.211'}, 'scan': {}})\n",
      "('127.0.0.212', {'nmap': {'scanstats': {'uphosts': '0', 'timestr': 'Wed Feb 14 17:43:46 2018', 'downhosts': '1', 'totalhosts': '1', 'elapsed': '3.27'}, 'scaninfo': {'tcp': {'services': '21-25', 'method': 'connect'}}, 'command_line': 'nmap -oX - -p 21-25 -sV 127.0.0.212'}, 'scan': {}})\n",
      "('127.0.0.213', {'nmap': {'scanstats': {'uphosts': '0', 'timestr': 'Wed Feb 14 17:43:49 2018', 'downhosts': '1', 'totalhosts': '1', 'elapsed': '3.28'}, 'scaninfo': {'tcp': {'services': '21-25', 'method': 'connect'}}, 'command_line': 'nmap -oX - -p 21-25 -sV 127.0.0.213'}, 'scan': {}})\n",
      "('127.0.0.214', {'nmap': {'scanstats': {'uphosts': '0', 'timestr': 'Wed Feb 14 17:43:53 2018', 'downhosts': '1', 'totalhosts': '1', 'elapsed': '3.27'}, 'scaninfo': {'tcp': {'services': '21-25', 'method': 'connect'}}, 'command_line': 'nmap -oX - -p 21-25 -sV 127.0.0.214'}, 'scan': {}})\n",
      "('127.0.0.215', {'nmap': {'scanstats': {'uphosts': '0', 'timestr': 'Wed Feb 14 17:43:56 2018', 'downhosts': '1', 'totalhosts': '1', 'elapsed': '3.27'}, 'scaninfo': {'tcp': {'services': '21-25', 'method': 'connect'}}, 'command_line': 'nmap -oX - -p 21-25 -sV 127.0.0.215'}, 'scan': {}})\n",
      "('127.0.0.216', {'nmap': {'scanstats': {'uphosts': '0', 'timestr': 'Wed Feb 14 17:43:59 2018', 'downhosts': '1', 'totalhosts': '1', 'elapsed': '3.27'}, 'scaninfo': {'tcp': {'services': '21-25', 'method': 'connect'}}, 'command_line': 'nmap -oX - -p 21-25 -sV 127.0.0.216'}, 'scan': {}})\n",
      "('127.0.0.217', {'nmap': {'scanstats': {'uphosts': '0', 'timestr': 'Wed Feb 14 17:44:03 2018', 'downhosts': '1', 'totalhosts': '1', 'elapsed': '3.26'}, 'scaninfo': {'tcp': {'services': '21-25', 'method': 'connect'}}, 'command_line': 'nmap -oX - -p 21-25 -sV 127.0.0.217'}, 'scan': {}})\n",
      "('127.0.0.218', {'nmap': {'scanstats': {'uphosts': '0', 'timestr': 'Wed Feb 14 17:44:06 2018', 'downhosts': '1', 'totalhosts': '1', 'elapsed': '3.25'}, 'scaninfo': {'tcp': {'services': '21-25', 'method': 'connect'}}, 'command_line': 'nmap -oX - -p 21-25 -sV 127.0.0.218'}, 'scan': {}})\n",
      "('127.0.0.219', {'nmap': {'scanstats': {'uphosts': '0', 'timestr': 'Wed Feb 14 17:44:09 2018', 'downhosts': '1', 'totalhosts': '1', 'elapsed': '3.30'}, 'scaninfo': {'tcp': {'services': '21-25', 'method': 'connect'}}, 'command_line': 'nmap -oX - -p 21-25 -sV 127.0.0.219'}, 'scan': {}})\n",
      "('127.0.0.22', {'nmap': {'scanstats': {'uphosts': '0', 'timestr': 'Wed Feb 14 17:44:13 2018', 'downhosts': '1', 'totalhosts': '1', 'elapsed': '3.28'}, 'scaninfo': {'tcp': {'services': '21-25', 'method': 'connect'}}, 'command_line': 'nmap -oX - -p 21-25 -sV 127.0.0.22'}, 'scan': {}})\n",
      "('127.0.0.220', {'nmap': {'scanstats': {'uphosts': '0', 'timestr': 'Wed Feb 14 17:44:16 2018', 'downhosts': '1', 'totalhosts': '1', 'elapsed': '3.27'}, 'scaninfo': {'tcp': {'services': '21-25', 'method': 'connect'}}, 'command_line': 'nmap -oX - -p 21-25 -sV 127.0.0.220'}, 'scan': {}})\n",
      "('127.0.0.221', {'nmap': {'scanstats': {'uphosts': '0', 'timestr': 'Wed Feb 14 17:44:19 2018', 'downhosts': '1', 'totalhosts': '1', 'elapsed': '3.29'}, 'scaninfo': {'tcp': {'services': '21-25', 'method': 'connect'}}, 'command_line': 'nmap -oX - -p 21-25 -sV 127.0.0.221'}, 'scan': {}})\n",
      "('127.0.0.222', {'nmap': {'scanstats': {'uphosts': '0', 'timestr': 'Wed Feb 14 17:44:23 2018', 'downhosts': '1', 'totalhosts': '1', 'elapsed': '3.27'}, 'scaninfo': {'tcp': {'services': '21-25', 'method': 'connect'}}, 'command_line': 'nmap -oX - -p 21-25 -sV 127.0.0.222'}, 'scan': {}})\n",
      "('127.0.0.223', {'nmap': {'scanstats': {'uphosts': '0', 'timestr': 'Wed Feb 14 17:44:26 2018', 'downhosts': '1', 'totalhosts': '1', 'elapsed': '3.26'}, 'scaninfo': {'tcp': {'services': '21-25', 'method': 'connect'}}, 'command_line': 'nmap -oX - -p 21-25 -sV 127.0.0.223'}, 'scan': {}})\n",
      "('127.0.0.224', {'nmap': {'scanstats': {'uphosts': '0', 'timestr': 'Wed Feb 14 17:44:29 2018', 'downhosts': '1', 'totalhosts': '1', 'elapsed': '3.27'}, 'scaninfo': {'tcp': {'services': '21-25', 'method': 'connect'}}, 'command_line': 'nmap -oX - -p 21-25 -sV 127.0.0.224'}, 'scan': {}})\n",
      "('127.0.0.225', {'nmap': {'scanstats': {'uphosts': '0', 'timestr': 'Wed Feb 14 17:44:33 2018', 'downhosts': '1', 'totalhosts': '1', 'elapsed': '3.26'}, 'scaninfo': {'tcp': {'services': '21-25', 'method': 'connect'}}, 'command_line': 'nmap -oX - -p 21-25 -sV 127.0.0.225'}, 'scan': {}})\n"
     ]
    },
    {
     "name": "stdout",
     "output_type": "stream",
     "text": [
      "('127.0.0.226', {'nmap': {'scanstats': {'uphosts': '0', 'timestr': 'Wed Feb 14 17:44:36 2018', 'downhosts': '1', 'totalhosts': '1', 'elapsed': '3.26'}, 'scaninfo': {'tcp': {'services': '21-25', 'method': 'connect'}}, 'command_line': 'nmap -oX - -p 21-25 -sV 127.0.0.226'}, 'scan': {}})\n",
      "('127.0.0.227', {'nmap': {'scanstats': {'uphosts': '0', 'timestr': 'Wed Feb 14 17:44:39 2018', 'downhosts': '1', 'totalhosts': '1', 'elapsed': '3.28'}, 'scaninfo': {'tcp': {'services': '21-25', 'method': 'connect'}}, 'command_line': 'nmap -oX - -p 21-25 -sV 127.0.0.227'}, 'scan': {}})\n",
      "('127.0.0.228', {'nmap': {'scanstats': {'uphosts': '0', 'timestr': 'Wed Feb 14 17:44:43 2018', 'downhosts': '1', 'totalhosts': '1', 'elapsed': '3.28'}, 'scaninfo': {'tcp': {'services': '21-25', 'method': 'connect'}}, 'command_line': 'nmap -oX - -p 21-25 -sV 127.0.0.228'}, 'scan': {}})\n",
      "('127.0.0.229', {'nmap': {'scanstats': {'uphosts': '0', 'timestr': 'Wed Feb 14 17:44:46 2018', 'downhosts': '1', 'totalhosts': '1', 'elapsed': '3.27'}, 'scaninfo': {'tcp': {'services': '21-25', 'method': 'connect'}}, 'command_line': 'nmap -oX - -p 21-25 -sV 127.0.0.229'}, 'scan': {}})\n",
      "('127.0.0.23', {'nmap': {'scanstats': {'uphosts': '0', 'timestr': 'Wed Feb 14 17:44:49 2018', 'downhosts': '1', 'totalhosts': '1', 'elapsed': '3.27'}, 'scaninfo': {'tcp': {'services': '21-25', 'method': 'connect'}}, 'command_line': 'nmap -oX - -p 21-25 -sV 127.0.0.23'}, 'scan': {}})\n",
      "('127.0.0.230', {'nmap': {'scanstats': {'uphosts': '0', 'timestr': 'Wed Feb 14 17:44:53 2018', 'downhosts': '1', 'totalhosts': '1', 'elapsed': '3.28'}, 'scaninfo': {'tcp': {'services': '21-25', 'method': 'connect'}}, 'command_line': 'nmap -oX - -p 21-25 -sV 127.0.0.230'}, 'scan': {}})\n",
      "('127.0.0.231', {'nmap': {'scanstats': {'uphosts': '0', 'timestr': 'Wed Feb 14 17:44:56 2018', 'downhosts': '1', 'totalhosts': '1', 'elapsed': '3.28'}, 'scaninfo': {'tcp': {'services': '21-25', 'method': 'connect'}}, 'command_line': 'nmap -oX - -p 21-25 -sV 127.0.0.231'}, 'scan': {}})\n",
      "('127.0.0.232', {'nmap': {'scanstats': {'uphosts': '0', 'timestr': 'Wed Feb 14 17:44:59 2018', 'downhosts': '1', 'totalhosts': '1', 'elapsed': '3.28'}, 'scaninfo': {'tcp': {'services': '21-25', 'method': 'connect'}}, 'command_line': 'nmap -oX - -p 21-25 -sV 127.0.0.232'}, 'scan': {}})\n",
      "('127.0.0.233', {'nmap': {'scanstats': {'uphosts': '0', 'timestr': 'Wed Feb 14 17:45:03 2018', 'downhosts': '1', 'totalhosts': '1', 'elapsed': '3.27'}, 'scaninfo': {'tcp': {'services': '21-25', 'method': 'connect'}}, 'command_line': 'nmap -oX - -p 21-25 -sV 127.0.0.233'}, 'scan': {}})\n",
      "('127.0.0.234', {'nmap': {'scanstats': {'uphosts': '0', 'timestr': 'Wed Feb 14 17:45:06 2018', 'downhosts': '1', 'totalhosts': '1', 'elapsed': '3.27'}, 'scaninfo': {'tcp': {'services': '21-25', 'method': 'connect'}}, 'command_line': 'nmap -oX - -p 21-25 -sV 127.0.0.234'}, 'scan': {}})\n",
      "('127.0.0.235', {'nmap': {'scanstats': {'uphosts': '0', 'timestr': 'Wed Feb 14 17:45:09 2018', 'downhosts': '1', 'totalhosts': '1', 'elapsed': '3.28'}, 'scaninfo': {'tcp': {'services': '21-25', 'method': 'connect'}}, 'command_line': 'nmap -oX - -p 21-25 -sV 127.0.0.235'}, 'scan': {}})\n",
      "('127.0.0.236', {'nmap': {'scanstats': {'uphosts': '0', 'timestr': 'Wed Feb 14 17:45:12 2018', 'downhosts': '1', 'totalhosts': '1', 'elapsed': '3.27'}, 'scaninfo': {'tcp': {'services': '21-25', 'method': 'connect'}}, 'command_line': 'nmap -oX - -p 21-25 -sV 127.0.0.236'}, 'scan': {}})\n",
      "('127.0.0.237', {'nmap': {'scanstats': {'uphosts': '0', 'timestr': 'Wed Feb 14 17:45:16 2018', 'downhosts': '1', 'totalhosts': '1', 'elapsed': '3.28'}, 'scaninfo': {'tcp': {'services': '21-25', 'method': 'connect'}}, 'command_line': 'nmap -oX - -p 21-25 -sV 127.0.0.237'}, 'scan': {}})\n",
      "('127.0.0.238', {'nmap': {'scanstats': {'uphosts': '0', 'timestr': 'Wed Feb 14 17:45:19 2018', 'downhosts': '1', 'totalhosts': '1', 'elapsed': '3.28'}, 'scaninfo': {'tcp': {'services': '21-25', 'method': 'connect'}}, 'command_line': 'nmap -oX - -p 21-25 -sV 127.0.0.238'}, 'scan': {}})\n",
      "('127.0.0.239', {'nmap': {'scanstats': {'uphosts': '0', 'timestr': 'Wed Feb 14 17:45:22 2018', 'downhosts': '1', 'totalhosts': '1', 'elapsed': '3.29'}, 'scaninfo': {'tcp': {'services': '21-25', 'method': 'connect'}}, 'command_line': 'nmap -oX - -p 21-25 -sV 127.0.0.239'}, 'scan': {}})\n",
      "('127.0.0.24', {'nmap': {'scanstats': {'uphosts': '0', 'timestr': 'Wed Feb 14 17:45:26 2018', 'downhosts': '1', 'totalhosts': '1', 'elapsed': '3.28'}, 'scaninfo': {'tcp': {'services': '21-25', 'method': 'connect'}}, 'command_line': 'nmap -oX - -p 21-25 -sV 127.0.0.24'}, 'scan': {}})\n",
      "('127.0.0.240', {'nmap': {'scanstats': {'uphosts': '0', 'timestr': 'Wed Feb 14 17:45:29 2018', 'downhosts': '1', 'totalhosts': '1', 'elapsed': '3.28'}, 'scaninfo': {'tcp': {'services': '21-25', 'method': 'connect'}}, 'command_line': 'nmap -oX - -p 21-25 -sV 127.0.0.240'}, 'scan': {}})\n",
      "('127.0.0.241', {'nmap': {'scanstats': {'uphosts': '0', 'timestr': 'Wed Feb 14 17:45:32 2018', 'downhosts': '1', 'totalhosts': '1', 'elapsed': '3.28'}, 'scaninfo': {'tcp': {'services': '21-25', 'method': 'connect'}}, 'command_line': 'nmap -oX - -p 21-25 -sV 127.0.0.241'}, 'scan': {}})\n",
      "('127.0.0.242', {'nmap': {'scanstats': {'uphosts': '0', 'timestr': 'Wed Feb 14 17:45:36 2018', 'downhosts': '1', 'totalhosts': '1', 'elapsed': '3.27'}, 'scaninfo': {'tcp': {'services': '21-25', 'method': 'connect'}}, 'command_line': 'nmap -oX - -p 21-25 -sV 127.0.0.242'}, 'scan': {}})\n",
      "('127.0.0.243', {'nmap': {'scanstats': {'uphosts': '0', 'timestr': 'Wed Feb 14 17:45:39 2018', 'downhosts': '1', 'totalhosts': '1', 'elapsed': '3.27'}, 'scaninfo': {'tcp': {'services': '21-25', 'method': 'connect'}}, 'command_line': 'nmap -oX - -p 21-25 -sV 127.0.0.243'}, 'scan': {}})\n",
      "('127.0.0.244', {'nmap': {'scanstats': {'uphosts': '0', 'timestr': 'Wed Feb 14 17:45:42 2018', 'downhosts': '1', 'totalhosts': '1', 'elapsed': '3.28'}, 'scaninfo': {'tcp': {'services': '21-25', 'method': 'connect'}}, 'command_line': 'nmap -oX - -p 21-25 -sV 127.0.0.244'}, 'scan': {}})\n",
      "('127.0.0.245', {'nmap': {'scanstats': {'uphosts': '0', 'timestr': 'Wed Feb 14 17:45:46 2018', 'downhosts': '1', 'totalhosts': '1', 'elapsed': '3.26'}, 'scaninfo': {'tcp': {'services': '21-25', 'method': 'connect'}}, 'command_line': 'nmap -oX - -p 21-25 -sV 127.0.0.245'}, 'scan': {}})\n",
      "('127.0.0.246', {'nmap': {'scanstats': {'uphosts': '0', 'timestr': 'Wed Feb 14 17:45:49 2018', 'downhosts': '1', 'totalhosts': '1', 'elapsed': '3.27'}, 'scaninfo': {'tcp': {'services': '21-25', 'method': 'connect'}}, 'command_line': 'nmap -oX - -p 21-25 -sV 127.0.0.246'}, 'scan': {}})\n",
      "('127.0.0.247', {'nmap': {'scanstats': {'uphosts': '0', 'timestr': 'Wed Feb 14 17:45:52 2018', 'downhosts': '1', 'totalhosts': '1', 'elapsed': '3.27'}, 'scaninfo': {'tcp': {'services': '21-25', 'method': 'connect'}}, 'command_line': 'nmap -oX - -p 21-25 -sV 127.0.0.247'}, 'scan': {}})\n",
      "('127.0.0.248', {'nmap': {'scanstats': {'uphosts': '0', 'timestr': 'Wed Feb 14 17:45:56 2018', 'downhosts': '1', 'totalhosts': '1', 'elapsed': '3.28'}, 'scaninfo': {'tcp': {'services': '21-25', 'method': 'connect'}}, 'command_line': 'nmap -oX - -p 21-25 -sV 127.0.0.248'}, 'scan': {}})\n",
      "('127.0.0.249', {'nmap': {'scanstats': {'uphosts': '0', 'timestr': 'Wed Feb 14 17:45:59 2018', 'downhosts': '1', 'totalhosts': '1', 'elapsed': '3.28'}, 'scaninfo': {'tcp': {'services': '21-25', 'method': 'connect'}}, 'command_line': 'nmap -oX - -p 21-25 -sV 127.0.0.249'}, 'scan': {}})\n",
      "('127.0.0.25', {'nmap': {'scanstats': {'uphosts': '0', 'timestr': 'Wed Feb 14 17:46:02 2018', 'downhosts': '1', 'totalhosts': '1', 'elapsed': '3.27'}, 'scaninfo': {'tcp': {'services': '21-25', 'method': 'connect'}}, 'command_line': 'nmap -oX - -p 21-25 -sV 127.0.0.25'}, 'scan': {}})\n",
      "('127.0.0.250', {'nmap': {'scanstats': {'uphosts': '0', 'timestr': 'Wed Feb 14 17:46:06 2018', 'downhosts': '1', 'totalhosts': '1', 'elapsed': '3.28'}, 'scaninfo': {'tcp': {'services': '21-25', 'method': 'connect'}}, 'command_line': 'nmap -oX - -p 21-25 -sV 127.0.0.250'}, 'scan': {}})\n",
      "('127.0.0.251', {'nmap': {'scanstats': {'uphosts': '0', 'timestr': 'Wed Feb 14 17:46:09 2018', 'downhosts': '1', 'totalhosts': '1', 'elapsed': '3.27'}, 'scaninfo': {'tcp': {'services': '21-25', 'method': 'connect'}}, 'command_line': 'nmap -oX - -p 21-25 -sV 127.0.0.251'}, 'scan': {}})\n"
     ]
    },
    {
     "name": "stdout",
     "output_type": "stream",
     "text": [
      "('127.0.0.252', {'nmap': {'scanstats': {'uphosts': '0', 'timestr': 'Wed Feb 14 17:46:12 2018', 'downhosts': '1', 'totalhosts': '1', 'elapsed': '3.28'}, 'scaninfo': {'tcp': {'services': '21-25', 'method': 'connect'}}, 'command_line': 'nmap -oX - -p 21-25 -sV 127.0.0.252'}, 'scan': {}})\n",
      "('127.0.0.253', {'nmap': {'scanstats': {'uphosts': '0', 'timestr': 'Wed Feb 14 17:46:16 2018', 'downhosts': '1', 'totalhosts': '1', 'elapsed': '3.28'}, 'scaninfo': {'tcp': {'services': '21-25', 'method': 'connect'}}, 'command_line': 'nmap -oX - -p 21-25 -sV 127.0.0.253'}, 'scan': {}})\n",
      "('127.0.0.254', {'nmap': {'scanstats': {'uphosts': '0', 'timestr': 'Wed Feb 14 17:46:19 2018', 'downhosts': '1', 'totalhosts': '1', 'elapsed': '3.27'}, 'scaninfo': {'tcp': {'services': '21-25', 'method': 'connect'}}, 'command_line': 'nmap -oX - -p 21-25 -sV 127.0.0.254'}, 'scan': {}})\n",
      "('127.0.0.255', {'nmap': {'scanstats': {'uphosts': '0', 'timestr': 'Wed Feb 14 17:46:22 2018', 'downhosts': '1', 'totalhosts': '1', 'elapsed': '3.27'}, 'scaninfo': {'tcp': {'services': '21-25', 'method': 'connect'}}, 'command_line': 'nmap -oX - -p 21-25 -sV 127.0.0.255'}, 'scan': {}})\n",
      "('127.0.0.26', {'nmap': {'scanstats': {'uphosts': '0', 'timestr': 'Wed Feb 14 17:46:26 2018', 'downhosts': '1', 'totalhosts': '1', 'elapsed': '3.26'}, 'scaninfo': {'tcp': {'services': '21-25', 'method': 'connect'}}, 'command_line': 'nmap -oX - -p 21-25 -sV 127.0.0.26'}, 'scan': {}})\n",
      "('127.0.0.27', {'nmap': {'scanstats': {'uphosts': '0', 'timestr': 'Wed Feb 14 17:46:29 2018', 'downhosts': '1', 'totalhosts': '1', 'elapsed': '3.28'}, 'scaninfo': {'tcp': {'services': '21-25', 'method': 'connect'}}, 'command_line': 'nmap -oX - -p 21-25 -sV 127.0.0.27'}, 'scan': {}})\n",
      "('127.0.0.28', {'nmap': {'scanstats': {'uphosts': '0', 'timestr': 'Wed Feb 14 17:46:32 2018', 'downhosts': '1', 'totalhosts': '1', 'elapsed': '3.26'}, 'scaninfo': {'tcp': {'services': '21-25', 'method': 'connect'}}, 'command_line': 'nmap -oX - -p 21-25 -sV 127.0.0.28'}, 'scan': {}})\n",
      "('127.0.0.29', {'nmap': {'scanstats': {'uphosts': '0', 'timestr': 'Wed Feb 14 17:46:36 2018', 'downhosts': '1', 'totalhosts': '1', 'elapsed': '3.28'}, 'scaninfo': {'tcp': {'services': '21-25', 'method': 'connect'}}, 'command_line': 'nmap -oX - -p 21-25 -sV 127.0.0.29'}, 'scan': {}})\n",
      "('127.0.0.3', {'nmap': {'scanstats': {'uphosts': '0', 'timestr': 'Wed Feb 14 17:46:39 2018', 'downhosts': '1', 'totalhosts': '1', 'elapsed': '3.28'}, 'scaninfo': {'tcp': {'services': '21-25', 'method': 'connect'}}, 'command_line': 'nmap -oX - -p 21-25 -sV 127.0.0.3'}, 'scan': {}})\n",
      "('127.0.0.30', {'nmap': {'scanstats': {'uphosts': '0', 'timestr': 'Wed Feb 14 17:46:42 2018', 'downhosts': '1', 'totalhosts': '1', 'elapsed': '3.27'}, 'scaninfo': {'tcp': {'services': '21-25', 'method': 'connect'}}, 'command_line': 'nmap -oX - -p 21-25 -sV 127.0.0.30'}, 'scan': {}})\n",
      "('127.0.0.31', {'nmap': {'scanstats': {'uphosts': '0', 'timestr': 'Wed Feb 14 17:46:46 2018', 'downhosts': '1', 'totalhosts': '1', 'elapsed': '3.27'}, 'scaninfo': {'tcp': {'services': '21-25', 'method': 'connect'}}, 'command_line': 'nmap -oX - -p 21-25 -sV 127.0.0.31'}, 'scan': {}})\n",
      "('127.0.0.32', {'nmap': {'scanstats': {'uphosts': '0', 'timestr': 'Wed Feb 14 17:46:49 2018', 'downhosts': '1', 'totalhosts': '1', 'elapsed': '3.27'}, 'scaninfo': {'tcp': {'services': '21-25', 'method': 'connect'}}, 'command_line': 'nmap -oX - -p 21-25 -sV 127.0.0.32'}, 'scan': {}})\n",
      "('127.0.0.33', {'nmap': {'scanstats': {'uphosts': '0', 'timestr': 'Wed Feb 14 17:46:52 2018', 'downhosts': '1', 'totalhosts': '1', 'elapsed': '3.27'}, 'scaninfo': {'tcp': {'services': '21-25', 'method': 'connect'}}, 'command_line': 'nmap -oX - -p 21-25 -sV 127.0.0.33'}, 'scan': {}})\n",
      "('127.0.0.34', {'nmap': {'scanstats': {'uphosts': '0', 'timestr': 'Wed Feb 14 17:46:55 2018', 'downhosts': '1', 'totalhosts': '1', 'elapsed': '3.27'}, 'scaninfo': {'tcp': {'services': '21-25', 'method': 'connect'}}, 'command_line': 'nmap -oX - -p 21-25 -sV 127.0.0.34'}, 'scan': {}})\n",
      "('127.0.0.35', {'nmap': {'scanstats': {'uphosts': '0', 'timestr': 'Wed Feb 14 17:46:59 2018', 'downhosts': '1', 'totalhosts': '1', 'elapsed': '3.27'}, 'scaninfo': {'tcp': {'services': '21-25', 'method': 'connect'}}, 'command_line': 'nmap -oX - -p 21-25 -sV 127.0.0.35'}, 'scan': {}})\n",
      "('127.0.0.36', {'nmap': {'scanstats': {'uphosts': '0', 'timestr': 'Wed Feb 14 17:47:02 2018', 'downhosts': '1', 'totalhosts': '1', 'elapsed': '3.29'}, 'scaninfo': {'tcp': {'services': '21-25', 'method': 'connect'}}, 'command_line': 'nmap -oX - -p 21-25 -sV 127.0.0.36'}, 'scan': {}})\n",
      "('127.0.0.37', {'nmap': {'scanstats': {'uphosts': '0', 'timestr': 'Wed Feb 14 17:47:05 2018', 'downhosts': '1', 'totalhosts': '1', 'elapsed': '3.26'}, 'scaninfo': {'tcp': {'services': '21-25', 'method': 'connect'}}, 'command_line': 'nmap -oX - -p 21-25 -sV 127.0.0.37'}, 'scan': {}})\n",
      "('127.0.0.38', {'nmap': {'scanstats': {'uphosts': '0', 'timestr': 'Wed Feb 14 17:47:09 2018', 'downhosts': '1', 'totalhosts': '1', 'elapsed': '3.28'}, 'scaninfo': {'tcp': {'services': '21-25', 'method': 'connect'}}, 'command_line': 'nmap -oX - -p 21-25 -sV 127.0.0.38'}, 'scan': {}})\n",
      "('127.0.0.39', {'nmap': {'scanstats': {'uphosts': '0', 'timestr': 'Wed Feb 14 17:47:12 2018', 'downhosts': '1', 'totalhosts': '1', 'elapsed': '3.27'}, 'scaninfo': {'tcp': {'services': '21-25', 'method': 'connect'}}, 'command_line': 'nmap -oX - -p 21-25 -sV 127.0.0.39'}, 'scan': {}})\n",
      "('127.0.0.4', {'nmap': {'scanstats': {'uphosts': '0', 'timestr': 'Wed Feb 14 17:47:15 2018', 'downhosts': '1', 'totalhosts': '1', 'elapsed': '3.29'}, 'scaninfo': {'tcp': {'services': '21-25', 'method': 'connect'}}, 'command_line': 'nmap -oX - -p 21-25 -sV 127.0.0.4'}, 'scan': {}})\n",
      "('127.0.0.40', {'nmap': {'scanstats': {'uphosts': '0', 'timestr': 'Wed Feb 14 17:47:19 2018', 'downhosts': '1', 'totalhosts': '1', 'elapsed': '3.28'}, 'scaninfo': {'tcp': {'services': '21-25', 'method': 'connect'}}, 'command_line': 'nmap -oX - -p 21-25 -sV 127.0.0.40'}, 'scan': {}})\n",
      "('127.0.0.41', {'nmap': {'scanstats': {'uphosts': '0', 'timestr': 'Wed Feb 14 17:47:22 2018', 'downhosts': '1', 'totalhosts': '1', 'elapsed': '3.28'}, 'scaninfo': {'tcp': {'services': '21-25', 'method': 'connect'}}, 'command_line': 'nmap -oX - -p 21-25 -sV 127.0.0.41'}, 'scan': {}})\n",
      "('127.0.0.42', {'nmap': {'scanstats': {'uphosts': '0', 'timestr': 'Wed Feb 14 17:47:25 2018', 'downhosts': '1', 'totalhosts': '1', 'elapsed': '3.27'}, 'scaninfo': {'tcp': {'services': '21-25', 'method': 'connect'}}, 'command_line': 'nmap -oX - -p 21-25 -sV 127.0.0.42'}, 'scan': {}})\n",
      "('127.0.0.43', {'nmap': {'scanstats': {'uphosts': '0', 'timestr': 'Wed Feb 14 17:47:29 2018', 'downhosts': '1', 'totalhosts': '1', 'elapsed': '3.29'}, 'scaninfo': {'tcp': {'services': '21-25', 'method': 'connect'}}, 'command_line': 'nmap -oX - -p 21-25 -sV 127.0.0.43'}, 'scan': {}})\n",
      "('127.0.0.44', {'nmap': {'scanstats': {'uphosts': '0', 'timestr': 'Wed Feb 14 17:47:32 2018', 'downhosts': '1', 'totalhosts': '1', 'elapsed': '3.26'}, 'scaninfo': {'tcp': {'services': '21-25', 'method': 'connect'}}, 'command_line': 'nmap -oX - -p 21-25 -sV 127.0.0.44'}, 'scan': {}})\n",
      "('127.0.0.45', {'nmap': {'scanstats': {'uphosts': '0', 'timestr': 'Wed Feb 14 17:47:35 2018', 'downhosts': '1', 'totalhosts': '1', 'elapsed': '3.27'}, 'scaninfo': {'tcp': {'services': '21-25', 'method': 'connect'}}, 'command_line': 'nmap -oX - -p 21-25 -sV 127.0.0.45'}, 'scan': {}})\n",
      "('127.0.0.46', {'nmap': {'scanstats': {'uphosts': '0', 'timestr': 'Wed Feb 14 17:47:39 2018', 'downhosts': '1', 'totalhosts': '1', 'elapsed': '3.26'}, 'scaninfo': {'tcp': {'services': '21-25', 'method': 'connect'}}, 'command_line': 'nmap -oX - -p 21-25 -sV 127.0.0.46'}, 'scan': {}})\n",
      "('127.0.0.47', {'nmap': {'scanstats': {'uphosts': '0', 'timestr': 'Wed Feb 14 17:47:42 2018', 'downhosts': '1', 'totalhosts': '1', 'elapsed': '3.27'}, 'scaninfo': {'tcp': {'services': '21-25', 'method': 'connect'}}, 'command_line': 'nmap -oX - -p 21-25 -sV 127.0.0.47'}, 'scan': {}})\n",
      "('127.0.0.48', {'nmap': {'scanstats': {'uphosts': '0', 'timestr': 'Wed Feb 14 17:47:45 2018', 'downhosts': '1', 'totalhosts': '1', 'elapsed': '3.27'}, 'scaninfo': {'tcp': {'services': '21-25', 'method': 'connect'}}, 'command_line': 'nmap -oX - -p 21-25 -sV 127.0.0.48'}, 'scan': {}})\n"
     ]
    },
    {
     "name": "stdout",
     "output_type": "stream",
     "text": [
      "('127.0.0.49', {'nmap': {'scanstats': {'uphosts': '0', 'timestr': 'Wed Feb 14 17:47:49 2018', 'downhosts': '1', 'totalhosts': '1', 'elapsed': '3.28'}, 'scaninfo': {'tcp': {'services': '21-25', 'method': 'connect'}}, 'command_line': 'nmap -oX - -p 21-25 -sV 127.0.0.49'}, 'scan': {}})\n",
      "('127.0.0.5', {'nmap': {'scanstats': {'uphosts': '0', 'timestr': 'Wed Feb 14 17:47:52 2018', 'downhosts': '1', 'totalhosts': '1', 'elapsed': '3.27'}, 'scaninfo': {'tcp': {'services': '21-25', 'method': 'connect'}}, 'command_line': 'nmap -oX - -p 21-25 -sV 127.0.0.5'}, 'scan': {}})\n",
      "('127.0.0.50', {'nmap': {'scanstats': {'uphosts': '0', 'timestr': 'Wed Feb 14 17:47:55 2018', 'downhosts': '1', 'totalhosts': '1', 'elapsed': '3.28'}, 'scaninfo': {'tcp': {'services': '21-25', 'method': 'connect'}}, 'command_line': 'nmap -oX - -p 21-25 -sV 127.0.0.50'}, 'scan': {}})\n",
      "('127.0.0.51', {'nmap': {'scanstats': {'uphosts': '0', 'timestr': 'Wed Feb 14 17:47:59 2018', 'downhosts': '1', 'totalhosts': '1', 'elapsed': '3.26'}, 'scaninfo': {'tcp': {'services': '21-25', 'method': 'connect'}}, 'command_line': 'nmap -oX - -p 21-25 -sV 127.0.0.51'}, 'scan': {}})\n",
      "('127.0.0.52', {'nmap': {'scanstats': {'uphosts': '0', 'timestr': 'Wed Feb 14 17:48:02 2018', 'downhosts': '1', 'totalhosts': '1', 'elapsed': '3.26'}, 'scaninfo': {'tcp': {'services': '21-25', 'method': 'connect'}}, 'command_line': 'nmap -oX - -p 21-25 -sV 127.0.0.52'}, 'scan': {}})\n",
      "('127.0.0.53', {'nmap': {'scanstats': {'uphosts': '0', 'timestr': 'Wed Feb 14 17:48:05 2018', 'downhosts': '1', 'totalhosts': '1', 'elapsed': '3.30'}, 'scaninfo': {'tcp': {'services': '21-25', 'method': 'connect'}}, 'command_line': 'nmap -oX - -p 21-25 -sV 127.0.0.53'}, 'scan': {}})\n",
      "('127.0.0.54', {'nmap': {'scanstats': {'uphosts': '0', 'timestr': 'Wed Feb 14 17:48:09 2018', 'downhosts': '1', 'totalhosts': '1', 'elapsed': '3.28'}, 'scaninfo': {'tcp': {'services': '21-25', 'method': 'connect'}}, 'command_line': 'nmap -oX - -p 21-25 -sV 127.0.0.54'}, 'scan': {}})\n",
      "('127.0.0.55', {'nmap': {'scanstats': {'uphosts': '0', 'timestr': 'Wed Feb 14 17:48:12 2018', 'downhosts': '1', 'totalhosts': '1', 'elapsed': '3.27'}, 'scaninfo': {'tcp': {'services': '21-25', 'method': 'connect'}}, 'command_line': 'nmap -oX - -p 21-25 -sV 127.0.0.55'}, 'scan': {}})\n",
      "('127.0.0.56', {'nmap': {'scanstats': {'uphosts': '0', 'timestr': 'Wed Feb 14 17:48:15 2018', 'downhosts': '1', 'totalhosts': '1', 'elapsed': '3.29'}, 'scaninfo': {'tcp': {'services': '21-25', 'method': 'connect'}}, 'command_line': 'nmap -oX - -p 21-25 -sV 127.0.0.56'}, 'scan': {}})\n",
      "('127.0.0.57', {'nmap': {'scanstats': {'uphosts': '0', 'timestr': 'Wed Feb 14 17:48:19 2018', 'downhosts': '1', 'totalhosts': '1', 'elapsed': '3.28'}, 'scaninfo': {'tcp': {'services': '21-25', 'method': 'connect'}}, 'command_line': 'nmap -oX - -p 21-25 -sV 127.0.0.57'}, 'scan': {}})\n",
      "('127.0.0.58', {'nmap': {'scanstats': {'uphosts': '0', 'timestr': 'Wed Feb 14 17:48:22 2018', 'downhosts': '1', 'totalhosts': '1', 'elapsed': '3.26'}, 'scaninfo': {'tcp': {'services': '21-25', 'method': 'connect'}}, 'command_line': 'nmap -oX - -p 21-25 -sV 127.0.0.58'}, 'scan': {}})\n",
      "('127.0.0.59', {'nmap': {'scanstats': {'uphosts': '0', 'timestr': 'Wed Feb 14 17:48:25 2018', 'downhosts': '1', 'totalhosts': '1', 'elapsed': '3.28'}, 'scaninfo': {'tcp': {'services': '21-25', 'method': 'connect'}}, 'command_line': 'nmap -oX - -p 21-25 -sV 127.0.0.59'}, 'scan': {}})\n",
      "('127.0.0.6', {'nmap': {'scanstats': {'uphosts': '0', 'timestr': 'Wed Feb 14 17:48:29 2018', 'downhosts': '1', 'totalhosts': '1', 'elapsed': '3.27'}, 'scaninfo': {'tcp': {'services': '21-25', 'method': 'connect'}}, 'command_line': 'nmap -oX - -p 21-25 -sV 127.0.0.6'}, 'scan': {}})\n",
      "('127.0.0.60', {'nmap': {'scanstats': {'uphosts': '0', 'timestr': 'Wed Feb 14 17:48:32 2018', 'downhosts': '1', 'totalhosts': '1', 'elapsed': '3.28'}, 'scaninfo': {'tcp': {'services': '21-25', 'method': 'connect'}}, 'command_line': 'nmap -oX - -p 21-25 -sV 127.0.0.60'}, 'scan': {}})\n",
      "('127.0.0.61', {'nmap': {'scanstats': {'uphosts': '0', 'timestr': 'Wed Feb 14 17:48:35 2018', 'downhosts': '1', 'totalhosts': '1', 'elapsed': '3.28'}, 'scaninfo': {'tcp': {'services': '21-25', 'method': 'connect'}}, 'command_line': 'nmap -oX - -p 21-25 -sV 127.0.0.61'}, 'scan': {}})\n",
      "('127.0.0.62', {'nmap': {'scanstats': {'uphosts': '0', 'timestr': 'Wed Feb 14 17:48:38 2018', 'downhosts': '1', 'totalhosts': '1', 'elapsed': '3.28'}, 'scaninfo': {'tcp': {'services': '21-25', 'method': 'connect'}}, 'command_line': 'nmap -oX - -p 21-25 -sV 127.0.0.62'}, 'scan': {}})\n",
      "('127.0.0.63', {'nmap': {'scanstats': {'uphosts': '0', 'timestr': 'Wed Feb 14 17:48:42 2018', 'downhosts': '1', 'totalhosts': '1', 'elapsed': '3.26'}, 'scaninfo': {'tcp': {'services': '21-25', 'method': 'connect'}}, 'command_line': 'nmap -oX - -p 21-25 -sV 127.0.0.63'}, 'scan': {}})\n",
      "('127.0.0.64', {'nmap': {'scanstats': {'uphosts': '0', 'timestr': 'Wed Feb 14 17:48:45 2018', 'downhosts': '1', 'totalhosts': '1', 'elapsed': '3.26'}, 'scaninfo': {'tcp': {'services': '21-25', 'method': 'connect'}}, 'command_line': 'nmap -oX - -p 21-25 -sV 127.0.0.64'}, 'scan': {}})\n",
      "('127.0.0.65', {'nmap': {'scanstats': {'uphosts': '0', 'timestr': 'Wed Feb 14 17:48:48 2018', 'downhosts': '1', 'totalhosts': '1', 'elapsed': '3.28'}, 'scaninfo': {'tcp': {'services': '21-25', 'method': 'connect'}}, 'command_line': 'nmap -oX - -p 21-25 -sV 127.0.0.65'}, 'scan': {}})\n",
      "('127.0.0.66', {'nmap': {'scanstats': {'uphosts': '0', 'timestr': 'Wed Feb 14 17:48:52 2018', 'downhosts': '1', 'totalhosts': '1', 'elapsed': '3.27'}, 'scaninfo': {'tcp': {'services': '21-25', 'method': 'connect'}}, 'command_line': 'nmap -oX - -p 21-25 -sV 127.0.0.66'}, 'scan': {}})\n",
      "('127.0.0.67', {'nmap': {'scanstats': {'uphosts': '0', 'timestr': 'Wed Feb 14 17:48:55 2018', 'downhosts': '1', 'totalhosts': '1', 'elapsed': '3.28'}, 'scaninfo': {'tcp': {'services': '21-25', 'method': 'connect'}}, 'command_line': 'nmap -oX - -p 21-25 -sV 127.0.0.67'}, 'scan': {}})\n",
      "('127.0.0.68', {'nmap': {'scanstats': {'uphosts': '0', 'timestr': 'Wed Feb 14 17:48:58 2018', 'downhosts': '1', 'totalhosts': '1', 'elapsed': '3.27'}, 'scaninfo': {'tcp': {'services': '21-25', 'method': 'connect'}}, 'command_line': 'nmap -oX - -p 21-25 -sV 127.0.0.68'}, 'scan': {}})\n",
      "('127.0.0.69', {'nmap': {'scanstats': {'uphosts': '0', 'timestr': 'Wed Feb 14 17:49:02 2018', 'downhosts': '1', 'totalhosts': '1', 'elapsed': '3.28'}, 'scaninfo': {'tcp': {'services': '21-25', 'method': 'connect'}}, 'command_line': 'nmap -oX - -p 21-25 -sV 127.0.0.69'}, 'scan': {}})\n",
      "('127.0.0.7', {'nmap': {'scanstats': {'uphosts': '0', 'timestr': 'Wed Feb 14 17:49:05 2018', 'downhosts': '1', 'totalhosts': '1', 'elapsed': '3.27'}, 'scaninfo': {'tcp': {'services': '21-25', 'method': 'connect'}}, 'command_line': 'nmap -oX - -p 21-25 -sV 127.0.0.7'}, 'scan': {}})\n",
      "('127.0.0.70', {'nmap': {'scanstats': {'uphosts': '0', 'timestr': 'Wed Feb 14 17:49:08 2018', 'downhosts': '1', 'totalhosts': '1', 'elapsed': '3.26'}, 'scaninfo': {'tcp': {'services': '21-25', 'method': 'connect'}}, 'command_line': 'nmap -oX - -p 21-25 -sV 127.0.0.70'}, 'scan': {}})\n",
      "('127.0.0.71', {'nmap': {'scanstats': {'uphosts': '0', 'timestr': 'Wed Feb 14 17:49:12 2018', 'downhosts': '1', 'totalhosts': '1', 'elapsed': '3.27'}, 'scaninfo': {'tcp': {'services': '21-25', 'method': 'connect'}}, 'command_line': 'nmap -oX - -p 21-25 -sV 127.0.0.71'}, 'scan': {}})\n",
      "('127.0.0.72', {'nmap': {'scanstats': {'uphosts': '0', 'timestr': 'Wed Feb 14 17:49:15 2018', 'downhosts': '1', 'totalhosts': '1', 'elapsed': '3.29'}, 'scaninfo': {'tcp': {'services': '21-25', 'method': 'connect'}}, 'command_line': 'nmap -oX - -p 21-25 -sV 127.0.0.72'}, 'scan': {}})\n",
      "('127.0.0.73', {'nmap': {'scanstats': {'uphosts': '0', 'timestr': 'Wed Feb 14 17:49:18 2018', 'downhosts': '1', 'totalhosts': '1', 'elapsed': '3.27'}, 'scaninfo': {'tcp': {'services': '21-25', 'method': 'connect'}}, 'command_line': 'nmap -oX - -p 21-25 -sV 127.0.0.73'}, 'scan': {}})\n",
      "('127.0.0.74', {'nmap': {'scanstats': {'uphosts': '0', 'timestr': 'Wed Feb 14 17:49:22 2018', 'downhosts': '1', 'totalhosts': '1', 'elapsed': '3.28'}, 'scaninfo': {'tcp': {'services': '21-25', 'method': 'connect'}}, 'command_line': 'nmap -oX - -p 21-25 -sV 127.0.0.74'}, 'scan': {}})\n"
     ]
    },
    {
     "name": "stdout",
     "output_type": "stream",
     "text": [
      "('127.0.0.75', {'nmap': {'scanstats': {'uphosts': '0', 'timestr': 'Wed Feb 14 17:49:25 2018', 'downhosts': '1', 'totalhosts': '1', 'elapsed': '3.29'}, 'scaninfo': {'tcp': {'services': '21-25', 'method': 'connect'}}, 'command_line': 'nmap -oX - -p 21-25 -sV 127.0.0.75'}, 'scan': {}})\n",
      "('127.0.0.76', {'nmap': {'scanstats': {'uphosts': '0', 'timestr': 'Wed Feb 14 17:49:28 2018', 'downhosts': '1', 'totalhosts': '1', 'elapsed': '3.28'}, 'scaninfo': {'tcp': {'services': '21-25', 'method': 'connect'}}, 'command_line': 'nmap -oX - -p 21-25 -sV 127.0.0.76'}, 'scan': {}})\n",
      "('127.0.0.77', {'nmap': {'scanstats': {'uphosts': '0', 'timestr': 'Wed Feb 14 17:49:32 2018', 'downhosts': '1', 'totalhosts': '1', 'elapsed': '3.28'}, 'scaninfo': {'tcp': {'services': '21-25', 'method': 'connect'}}, 'command_line': 'nmap -oX - -p 21-25 -sV 127.0.0.77'}, 'scan': {}})\n",
      "('127.0.0.78', {'nmap': {'scanstats': {'uphosts': '0', 'timestr': 'Wed Feb 14 17:49:35 2018', 'downhosts': '1', 'totalhosts': '1', 'elapsed': '3.27'}, 'scaninfo': {'tcp': {'services': '21-25', 'method': 'connect'}}, 'command_line': 'nmap -oX - -p 21-25 -sV 127.0.0.78'}, 'scan': {}})\n",
      "('127.0.0.79', {'nmap': {'scanstats': {'uphosts': '0', 'timestr': 'Wed Feb 14 17:49:38 2018', 'downhosts': '1', 'totalhosts': '1', 'elapsed': '3.28'}, 'scaninfo': {'tcp': {'services': '21-25', 'method': 'connect'}}, 'command_line': 'nmap -oX - -p 21-25 -sV 127.0.0.79'}, 'scan': {}})\n",
      "('127.0.0.8', {'nmap': {'scanstats': {'uphosts': '0', 'timestr': 'Wed Feb 14 17:49:42 2018', 'downhosts': '1', 'totalhosts': '1', 'elapsed': '3.27'}, 'scaninfo': {'tcp': {'services': '21-25', 'method': 'connect'}}, 'command_line': 'nmap -oX - -p 21-25 -sV 127.0.0.8'}, 'scan': {}})\n",
      "('127.0.0.80', {'nmap': {'scanstats': {'uphosts': '0', 'timestr': 'Wed Feb 14 17:49:45 2018', 'downhosts': '1', 'totalhosts': '1', 'elapsed': '3.26'}, 'scaninfo': {'tcp': {'services': '21-25', 'method': 'connect'}}, 'command_line': 'nmap -oX - -p 21-25 -sV 127.0.0.80'}, 'scan': {}})\n",
      "('127.0.0.81', {'nmap': {'scanstats': {'uphosts': '0', 'timestr': 'Wed Feb 14 17:49:48 2018', 'downhosts': '1', 'totalhosts': '1', 'elapsed': '3.28'}, 'scaninfo': {'tcp': {'services': '21-25', 'method': 'connect'}}, 'command_line': 'nmap -oX - -p 21-25 -sV 127.0.0.81'}, 'scan': {}})\n",
      "('127.0.0.82', {'nmap': {'scanstats': {'uphosts': '0', 'timestr': 'Wed Feb 14 17:49:52 2018', 'downhosts': '1', 'totalhosts': '1', 'elapsed': '3.27'}, 'scaninfo': {'tcp': {'services': '21-25', 'method': 'connect'}}, 'command_line': 'nmap -oX - -p 21-25 -sV 127.0.0.82'}, 'scan': {}})\n",
      "('127.0.0.83', {'nmap': {'scanstats': {'uphosts': '0', 'timestr': 'Wed Feb 14 17:49:55 2018', 'downhosts': '1', 'totalhosts': '1', 'elapsed': '3.27'}, 'scaninfo': {'tcp': {'services': '21-25', 'method': 'connect'}}, 'command_line': 'nmap -oX - -p 21-25 -sV 127.0.0.83'}, 'scan': {}})\n",
      "('127.0.0.84', {'nmap': {'scanstats': {'uphosts': '0', 'timestr': 'Wed Feb 14 17:49:58 2018', 'downhosts': '1', 'totalhosts': '1', 'elapsed': '3.28'}, 'scaninfo': {'tcp': {'services': '21-25', 'method': 'connect'}}, 'command_line': 'nmap -oX - -p 21-25 -sV 127.0.0.84'}, 'scan': {}})\n",
      "('127.0.0.85', {'nmap': {'scanstats': {'uphosts': '0', 'timestr': 'Wed Feb 14 17:50:02 2018', 'downhosts': '1', 'totalhosts': '1', 'elapsed': '3.28'}, 'scaninfo': {'tcp': {'services': '21-25', 'method': 'connect'}}, 'command_line': 'nmap -oX - -p 21-25 -sV 127.0.0.85'}, 'scan': {}})\n",
      "('127.0.0.86', {'nmap': {'scanstats': {'uphosts': '0', 'timestr': 'Wed Feb 14 17:50:05 2018', 'downhosts': '1', 'totalhosts': '1', 'elapsed': '3.28'}, 'scaninfo': {'tcp': {'services': '21-25', 'method': 'connect'}}, 'command_line': 'nmap -oX - -p 21-25 -sV 127.0.0.86'}, 'scan': {}})\n",
      "('127.0.0.87', {'nmap': {'scanstats': {'uphosts': '0', 'timestr': 'Wed Feb 14 17:50:08 2018', 'downhosts': '1', 'totalhosts': '1', 'elapsed': '3.26'}, 'scaninfo': {'tcp': {'services': '21-25', 'method': 'connect'}}, 'command_line': 'nmap -oX - -p 21-25 -sV 127.0.0.87'}, 'scan': {}})\n",
      "('127.0.0.88', {'nmap': {'scanstats': {'uphosts': '0', 'timestr': 'Wed Feb 14 17:50:11 2018', 'downhosts': '1', 'totalhosts': '1', 'elapsed': '3.27'}, 'scaninfo': {'tcp': {'services': '21-25', 'method': 'connect'}}, 'command_line': 'nmap -oX - -p 21-25 -sV 127.0.0.88'}, 'scan': {}})\n",
      "('127.0.0.89', {'nmap': {'scanstats': {'uphosts': '0', 'timestr': 'Wed Feb 14 17:50:15 2018', 'downhosts': '1', 'totalhosts': '1', 'elapsed': '3.27'}, 'scaninfo': {'tcp': {'services': '21-25', 'method': 'connect'}}, 'command_line': 'nmap -oX - -p 21-25 -sV 127.0.0.89'}, 'scan': {}})\n",
      "('127.0.0.9', {'nmap': {'scanstats': {'uphosts': '0', 'timestr': 'Wed Feb 14 17:50:18 2018', 'downhosts': '1', 'totalhosts': '1', 'elapsed': '3.29'}, 'scaninfo': {'tcp': {'services': '21-25', 'method': 'connect'}}, 'command_line': 'nmap -oX - -p 21-25 -sV 127.0.0.9'}, 'scan': {}})\n",
      "('127.0.0.90', {'nmap': {'scanstats': {'uphosts': '0', 'timestr': 'Wed Feb 14 17:50:21 2018', 'downhosts': '1', 'totalhosts': '1', 'elapsed': '3.27'}, 'scaninfo': {'tcp': {'services': '21-25', 'method': 'connect'}}, 'command_line': 'nmap -oX - -p 21-25 -sV 127.0.0.90'}, 'scan': {}})\n",
      "('127.0.0.91', {'nmap': {'scanstats': {'uphosts': '0', 'timestr': 'Wed Feb 14 17:50:25 2018', 'downhosts': '1', 'totalhosts': '1', 'elapsed': '3.27'}, 'scaninfo': {'tcp': {'services': '21-25', 'method': 'connect'}}, 'command_line': 'nmap -oX - -p 21-25 -sV 127.0.0.91'}, 'scan': {}})\n",
      "('127.0.0.92', {'nmap': {'scanstats': {'uphosts': '0', 'timestr': 'Wed Feb 14 17:50:28 2018', 'downhosts': '1', 'totalhosts': '1', 'elapsed': '3.28'}, 'scaninfo': {'tcp': {'services': '21-25', 'method': 'connect'}}, 'command_line': 'nmap -oX - -p 21-25 -sV 127.0.0.92'}, 'scan': {}})\n",
      "('127.0.0.93', {'nmap': {'scanstats': {'uphosts': '0', 'timestr': 'Wed Feb 14 17:50:31 2018', 'downhosts': '1', 'totalhosts': '1', 'elapsed': '3.29'}, 'scaninfo': {'tcp': {'services': '21-25', 'method': 'connect'}}, 'command_line': 'nmap -oX - -p 21-25 -sV 127.0.0.93'}, 'scan': {}})\n",
      "('127.0.0.94', {'nmap': {'scanstats': {'uphosts': '0', 'timestr': 'Wed Feb 14 17:50:35 2018', 'downhosts': '1', 'totalhosts': '1', 'elapsed': '3.28'}, 'scaninfo': {'tcp': {'services': '21-25', 'method': 'connect'}}, 'command_line': 'nmap -oX - -p 21-25 -sV 127.0.0.94'}, 'scan': {}})\n",
      "('127.0.0.95', {'nmap': {'scanstats': {'uphosts': '0', 'timestr': 'Wed Feb 14 17:50:38 2018', 'downhosts': '1', 'totalhosts': '1', 'elapsed': '3.27'}, 'scaninfo': {'tcp': {'services': '21-25', 'method': 'connect'}}, 'command_line': 'nmap -oX - -p 21-25 -sV 127.0.0.95'}, 'scan': {}})\n",
      "('127.0.0.96', {'nmap': {'scanstats': {'uphosts': '0', 'timestr': 'Wed Feb 14 17:50:41 2018', 'downhosts': '1', 'totalhosts': '1', 'elapsed': '3.27'}, 'scaninfo': {'tcp': {'services': '21-25', 'method': 'connect'}}, 'command_line': 'nmap -oX - -p 21-25 -sV 127.0.0.96'}, 'scan': {}})\n",
      "('127.0.0.97', {'nmap': {'scanstats': {'uphosts': '0', 'timestr': 'Wed Feb 14 17:50:45 2018', 'downhosts': '1', 'totalhosts': '1', 'elapsed': '3.26'}, 'scaninfo': {'tcp': {'services': '21-25', 'method': 'connect'}}, 'command_line': 'nmap -oX - -p 21-25 -sV 127.0.0.97'}, 'scan': {}})\n",
      "('127.0.0.98', {'nmap': {'scanstats': {'uphosts': '0', 'timestr': 'Wed Feb 14 17:50:48 2018', 'downhosts': '1', 'totalhosts': '1', 'elapsed': '3.27'}, 'scaninfo': {'tcp': {'services': '21-25', 'method': 'connect'}}, 'command_line': 'nmap -oX - -p 21-25 -sV 127.0.0.98'}, 'scan': {}})\n",
      "('127.0.0.99', {'nmap': {'scanstats': {'uphosts': '0', 'timestr': 'Wed Feb 14 17:50:51 2018', 'downhosts': '1', 'totalhosts': '1', 'elapsed': '3.26'}, 'scaninfo': {'tcp': {'services': '21-25', 'method': 'connect'}}, 'command_line': 'nmap -oX - -p 21-25 -sV 127.0.0.99'}, 'scan': {}})\n"
     ]
    }
   ],
   "source": [
    "nm = nmap.PortScannerYield()\n",
    "for progressive_result in nm.scan('127.0.0.1/24', '21-25'):\n",
    "    print progressive_result"
   ]
  }
 ],
 "metadata": {
  "kernelspec": {
   "display_name": "Python 2",
   "language": "python",
   "name": "python2"
  },
  "language_info": {
   "codemirror_mode": {
    "name": "ipython",
    "version": 2
   },
   "file_extension": ".py",
   "mimetype": "text/x-python",
   "name": "python",
   "nbconvert_exporter": "python",
   "pygments_lexer": "ipython2",
   "version": "2.7.13"
  }
 },
 "nbformat": 4,
 "nbformat_minor": 2
}
